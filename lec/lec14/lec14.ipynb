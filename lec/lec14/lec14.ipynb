{
 "cells": [
  {
   "cell_type": "code",
   "execution_count": null,
   "id": "29a9b460-2885-4d79-ab50-cbaf589674be",
   "metadata": {},
   "outputs": [],
   "source": [
    "from datascience import *\n",
    "import numpy as np\n",
    "\n",
    "%matplotlib inline\n",
    "import matplotlib.pyplot as plots\n",
    "plots.style.use('fivethirtyeight')"
   ]
  },
  {
   "cell_type": "markdown",
   "id": "8b348922-346a-4a30-b7fe-9c4e838b312c",
   "metadata": {},
   "source": [
    "## Review"
   ]
  },
  {
   "cell_type": "markdown",
   "id": "1834de61-9a07-4204-b8ca-c6f447af43e2",
   "metadata": {},
   "source": [
    "#### **Discussion Question**: \n",
    "Examine the following code and `for` loop. What changes should be made to the code?"
   ]
  },
  {
   "cell_type": "code",
   "execution_count": null,
   "id": "ab03b309-ccc2-4acb-902c-8cad244c121f",
   "metadata": {},
   "outputs": [],
   "source": [
    "def total_through_k(k):\n",
    "    for i in k:\n",
    "        total = 0\n",
    "        total = i + total\n",
    "\n",
    "    return total"
   ]
  },
  {
   "cell_type": "markdown",
   "id": "2016e18f-78f6-427c-b3e4-1ba3e1ce0c14",
   "metadata": {},
   "source": [
    "## New material"
   ]
  },
  {
   "cell_type": "markdown",
   "id": "9908dc8d-8097-4a0f-be5e-3a9050573f1e",
   "metadata": {},
   "source": [
    "### Types of samples"
   ]
  },
  {
   "cell_type": "code",
   "execution_count": null,
   "id": "98ac6c9b-5021-4dec-b129-b0d9f45fbe7b",
   "metadata": {},
   "outputs": [],
   "source": [
    "united = Table.read_table('united.csv')\n",
    "united = united.with_column('Row', np.arange(united.num_rows)).move_to_start('Row')\n",
    "united"
   ]
  },
  {
   "cell_type": "markdown",
   "id": "aa7bcbdb-18de-48a5-b2ed-577b869b478a",
   "metadata": {},
   "source": [
    "#### **Task**: Take some *determinstic* samples of 5 rows from the `united` table."
   ]
  },
  {
   "cell_type": "code",
   "execution_count": null,
   "id": "31ff6765-8c5e-49b1-96cd-0910f7e71e33",
   "metadata": {},
   "outputs": [],
   "source": [
    "united.where('Destination', 'JFK').take(np.arange(5))"
   ]
  },
  {
   "cell_type": "code",
   "execution_count": null,
   "id": "4d843d88-afbb-40f8-a7fe-f50b717590b7",
   "metadata": {},
   "outputs": [],
   "source": [
    "united.take(np.arange(start = 0, stop = 25, step = 5))"
   ]
  },
  {
   "cell_type": "code",
   "execution_count": null,
   "id": "ff1bb7fe-0445-48bd-8b9a-783757f9a357",
   "metadata": {},
   "outputs": [],
   "source": [
    "united.take(make_array(100,200,300,400,500))"
   ]
  },
  {
   "cell_type": "markdown",
   "id": "4ea1b309-4f0b-42e2-8289-90f7b1bb95f7",
   "metadata": {},
   "source": [
    "#### **Task**: Take some *random* samples of 5 rows from the `united` table."
   ]
  },
  {
   "cell_type": "code",
   "execution_count": null,
   "id": "dbb32f75-2a6e-48bb-ba2a-8c9454618c50",
   "metadata": {},
   "outputs": [],
   "source": [
    "start = np.random.choice(np.arange(1000))"
   ]
  },
  {
   "cell_type": "code",
   "execution_count": null,
   "id": "84910189-9e10-45df-8574-b6fd0699b756",
   "metadata": {},
   "outputs": [],
   "source": [
    "start"
   ]
  },
  {
   "cell_type": "code",
   "execution_count": null,
   "id": "d444ab44-79bd-4391-864f-e602961d764c",
   "metadata": {},
   "outputs": [],
   "source": [
    "random_sample_1 = united.take(np.arange(start, stop=start + 25, step=5))\n",
    "random_sample_1"
   ]
  },
  {
   "cell_type": "code",
   "execution_count": null,
   "id": "61e00d66-e0c5-4b09-a993-3292ac243333",
   "metadata": {},
   "outputs": [],
   "source": [
    "united.sample(k=5, with_replacement=False)"
   ]
  },
  {
   "cell_type": "markdown",
   "id": "1d4aa010-a58d-46be-8984-b84fb824fb8b",
   "metadata": {},
   "source": [
    "### Distributions also apply to random quantities"
   ]
  },
  {
   "cell_type": "code",
   "execution_count": null,
   "id": "b025ab13-d413-402d-98e1-6f5e2fe22b1f",
   "metadata": {},
   "outputs": [],
   "source": [
    "die = Table().with_column('Face', np.arange(1, 7))\n",
    "die"
   ]
  },
  {
   "cell_type": "code",
   "execution_count": null,
   "id": "5efe57f9-6dfb-4d79-abc9-12237ddf51b4",
   "metadata": {},
   "outputs": [],
   "source": [
    "die.hist(bins = make_array(1,2,3,4,5,6,7),unit = 'spot')\n",
    "print('Each spot has an equal chance of being rolled')"
   ]
  },
  {
   "cell_type": "code",
   "execution_count": null,
   "id": "80021119-6ac2-412e-9dd8-93bcc0f18cbe",
   "metadata": {},
   "outputs": [],
   "source": [
    "die.sample(10).hist(bins = make_array(1,2,3,4,5,6,7),unit = 'spot')\n",
    "print('This distribution will vary each time you run this code!')"
   ]
  },
  {
   "cell_type": "markdown",
   "id": "afbcacc2-ec62-49ef-9b11-5b5fe62499c4",
   "metadata": {},
   "source": [
    "### The LLN applies to empirical distributions"
   ]
  },
  {
   "cell_type": "markdown",
   "id": "e3608d50-d216-49c0-b895-5274df89bdf6",
   "metadata": {},
   "source": [
    "#### **Task**: Create:\n",
    "- The theoretical probability distribution of a six-sided die\n",
    "- The observed probability distribution of a six-sided die after: 10, 100, 1,000 and 10,000 rolls."
   ]
  },
  {
   "cell_type": "markdown",
   "id": "9661a089-0182-4848-95bd-b5b32dfcf313",
   "metadata": {},
   "source": [
    "**Theoretical distribution**"
   ]
  },
  {
   "cell_type": "code",
   "execution_count": null,
   "id": "2216d30c-00d3-424f-8bda-77d7a8a22793",
   "metadata": {},
   "outputs": [],
   "source": [
    "die.hist(bins = make_array(1,2,3,4,5,6,7),unit = 'spot')\n",
    "print('Each spot has an equal chance of being rolled')"
   ]
  },
  {
   "cell_type": "markdown",
   "id": "b9deda9f-031c-4e19-88f5-c70cd0c3ea83",
   "metadata": {},
   "source": [
    "**Observed distributions**"
   ]
  },
  {
   "cell_type": "code",
   "execution_count": null,
   "id": "2078a6f5-5e29-41f8-9cbb-e8e6eee8039f",
   "metadata": {},
   "outputs": [],
   "source": [
    "die.sample(5).hist(bins = make_array(1,2,3,4,5,6,7),unit = 'spot')"
   ]
  },
  {
   "cell_type": "code",
   "execution_count": null,
   "id": "5b286b2f-dce9-445c-84b7-a5db43225d23",
   "metadata": {},
   "outputs": [],
   "source": [
    "def observed_die_distribution(k):\n",
    "    observed_die_rolls = die.sample(k)\n",
    "    observed_die_rolls.hist(bins = make_array(1,2,3,4,5,6,7),unit = 'spot')"
   ]
  },
  {
   "cell_type": "code",
   "execution_count": null,
   "id": "9849686e-74ec-4fc6-9f07-5000fa506eb7",
   "metadata": {},
   "outputs": [],
   "source": [
    "observed_die_distribution(10)\n",
    "print(\"This doesn't look much like the theoretical distribution!\")"
   ]
  },
  {
   "cell_type": "code",
   "execution_count": null,
   "id": "8d588a58-c533-4bb7-b0d9-679e321933ef",
   "metadata": {},
   "outputs": [],
   "source": [
    "observed_die_distribution(100)\n",
    "print('This looks closer to the theoretical distribution!')"
   ]
  },
  {
   "cell_type": "code",
   "execution_count": null,
   "id": "f2b4c8e6-7518-468e-b95b-64e20a78ec44",
   "metadata": {},
   "outputs": [],
   "source": [
    "observed_die_distribution(1000)\n",
    "print('This looks much more like the theoretical distribution!')"
   ]
  },
  {
   "cell_type": "code",
   "execution_count": null,
   "id": "dba771b2-c030-4bb4-ae17-dcfcf1f62709",
   "metadata": {},
   "outputs": [],
   "source": [
    "observed_die_distribution(10000)\n",
    "print('This looks a lot like the theoretical distribution!')"
   ]
  },
  {
   "cell_type": "markdown",
   "id": "c7d9f854-b1bc-4d82-b136-b9cd813ddfab",
   "metadata": {},
   "source": [
    "_____"
   ]
  },
  {
   "cell_type": "markdown",
   "id": "42e56988-6ed5-48cb-bf74-715248dd8fce",
   "metadata": {},
   "source": [
    "#### **Task**: Find or create\n",
    "- The median delay time (in minutes) across all United flights from 6/1/15 to 8/9/15.\n",
    "- The observed distribution of median delay times after taking samples (*with replacement*) of: 10, 100, 1,000 and 10,000 randomly sampled flights."
   ]
  },
  {
   "cell_type": "code",
   "execution_count": null,
   "id": "2ebf4f88-dcf1-46a3-b6b9-c0da8dd05b85",
   "metadata": {},
   "outputs": [],
   "source": [
    "np.median(united.column('Delay'))"
   ]
  },
  {
   "cell_type": "code",
   "execution_count": null,
   "id": "8322663b-90f1-41f6-bf78-6b591033ff11",
   "metadata": {},
   "outputs": [],
   "source": [
    "np.median(united.sample(10).column('Delay'))"
   ]
  },
  {
   "cell_type": "code",
   "execution_count": null,
   "id": "d6696b0a-2bee-4fca-9ca2-5b9c8873d7ef",
   "metadata": {},
   "outputs": [],
   "source": [
    "def observed_sample_median(sample_size):\n",
    "    return np.median(united.sample(size).column('Delay'))"
   ]
  },
  {
   "cell_type": "code",
   "execution_count": null,
   "id": "70e1fe28-50a8-4a7c-9a5a-e2baf79a51a8",
   "metadata": {},
   "outputs": [],
   "source": [
    "observed_sample_median(10)"
   ]
  },
  {
   "cell_type": "markdown",
   "id": "abed9f29-8cfd-40c8-848b-a98a0399f7b3",
   "metadata": {},
   "source": [
    "**Discussion** [2 min]: \n",
    "- What are the argument to this function meaning (what data types are they)?\n",
    "- What is the output of this function (and its data type)?"
   ]
  },
  {
   "cell_type": "code",
   "execution_count": null,
   "id": "05c85ea3-be8d-4435-99a6-20fe0d1f7f91",
   "metadata": {},
   "outputs": [],
   "source": [
    "def observed_sample_median_distribution(repitition_size, sample_size):\n",
    "\n",
    "    observed_sample_medians = make_array()\n",
    "\n",
    "    for rep in np.arange(repitition_size):\n",
    "        new_median = np.median(united.sample(sample_size).column('Delay'))\n",
    "        observed_sample_medians = np.append(observed_sample_medians, new_median)\n",
    "\n",
    "    return observed_sample_medians"
   ]
  },
  {
   "cell_type": "code",
   "execution_count": null,
   "id": "d018fd8c-1731-4418-ac32-7f8be1468de0",
   "metadata": {},
   "outputs": [],
   "source": [
    "results = observed_sample_median_distribution(repitition_size=100,sample_size=1000)"
   ]
  },
  {
   "cell_type": "code",
   "execution_count": null,
   "id": "d8a45871-fa08-49dc-aceb-0d3c4893711e",
   "metadata": {},
   "outputs": [],
   "source": []
  },
  {
   "cell_type": "code",
   "execution_count": null,
   "id": "f23ac534-ab96-419a-a056-4242dba60058",
   "metadata": {
    "scrolled": true
   },
   "outputs": [],
   "source": [
    "Table().with_column('Sample medians', results).hist()"
   ]
  }
 ],
 "metadata": {
  "kernelspec": {
   "display_name": "Python 3 (ipykernel)",
   "language": "python",
   "name": "python3"
  },
  "language_info": {
   "codemirror_mode": {
    "name": "ipython",
    "version": 3
   },
   "file_extension": ".py",
   "mimetype": "text/x-python",
   "name": "python",
   "nbconvert_exporter": "python",
   "pygments_lexer": "ipython3",
   "version": "3.12.4"
  }
 },
 "nbformat": 4,
 "nbformat_minor": 5
}
