{
 "cells": [
  {
   "cell_type": "code",
   "execution_count": 1,
   "metadata": {},
   "outputs": [],
   "source": [
    "from datascience import *\n",
    "import numpy as np\n",
    "\n",
    "%matplotlib inline\n",
    "import matplotlib.pyplot as plots\n",
    "plots.style.use('fivethirtyeight')"
   ]
  },
  {
   "cell_type": "markdown",
   "metadata": {},
   "source": [
    "## Review"
   ]
  },
  {
   "cell_type": "markdown",
   "metadata": {},
   "source": [
    "**Discussion Question 1:** In slides."
   ]
  },
  {
   "cell_type": "markdown",
   "metadata": {},
   "source": [
    "_____"
   ]
  },
  {
   "cell_type": "code",
   "execution_count": 2,
   "metadata": {
    "scrolled": true
   },
   "outputs": [
    {
     "data": {
      "text/html": [
       "<table border=\"1\" class=\"dataframe\">\n",
       "    <thead>\n",
       "        <tr>\n",
       "            <th>Year</th> <th>Extraversion</th> <th>Number of textees</th> <th>Hours of sleep</th> <th>Handedness</th> <th>Sleep position</th> <th>Pets</th> <th>TV</th> <th>Piercings</th>\n",
       "        </tr>\n",
       "    </thead>\n",
       "    <tbody>\n",
       "        <tr>\n",
       "            <td>Second Year</td> <td>7           </td> <td>5                </td> <td>7             </td> <td>Right-handed</td> <td>On your back      </td> <td>a little brother</td> <td>Black Mirror </td> <td>3        </td>\n",
       "        </tr>\n",
       "        <tr>\n",
       "            <td>Second Year</td> <td>3           </td> <td>6                </td> <td>7             </td> <td>Right-handed</td> <td>On your right side</td> <td>Bird            </td> <td>nan          </td> <td>0        </td>\n",
       "        </tr>\n",
       "        <tr>\n",
       "            <td>Second Year</td> <td>3           </td> <td>8                </td> <td>6             </td> <td>Right-handed</td> <td>On your right side</td> <td>Bird            </td> <td>The Bear     </td> <td>0        </td>\n",
       "        </tr>\n",
       "        <tr>\n",
       "            <td>First Year </td> <td>4           </td> <td>4                </td> <td>7             </td> <td>Right-handed</td> <td>On your left side </td> <td>Bird            </td> <td>Gilmore Girls</td> <td>1        </td>\n",
       "        </tr>\n",
       "        <tr>\n",
       "            <td>Second Year</td> <td>3           </td> <td>3                </td> <td>7             </td> <td>Right-handed</td> <td>On your stomach   </td> <td>Bird            </td> <td>nan          </td> <td>2        </td>\n",
       "        </tr>\n",
       "        <tr>\n",
       "            <td>Second Year</td> <td>4           </td> <td>4                </td> <td>7             </td> <td>Right-handed</td> <td>On your right side</td> <td>Bird            </td> <td>The Bear     </td> <td>2        </td>\n",
       "        </tr>\n",
       "    </tbody>\n",
       "</table>\n",
       "<p>... (926 rows omitted)</p>"
      ],
      "text/plain": [
       "<IPython.core.display.HTML object>"
      ]
     },
     "metadata": {},
     "output_type": "display_data"
    }
   ],
   "source": [
    "survey = Table.read_table('welcome_survey_sp24.csv')\n",
    "survey.show(6)"
   ]
  },
  {
   "cell_type": "code",
   "execution_count": 3,
   "metadata": {},
   "outputs": [
    {
     "data": {
      "image/png": "[encoded data removed]",
      "text/plain": [
       "<Figure size 600x400 with 1 Axes>"
      ]
     },
     "metadata": {},
     "output_type": "display_data"
    }
   ],
   "source": [
    "survey.hist('Extraversion',  bins = make_array(0, 3, 5, 7, 8, 9, 10))"
   ]
  },
  {
   "cell_type": "markdown",
   "metadata": {},
   "source": [
    "**Discussion Question 2**: Which (maybe more than one) of these *are*\n",
    "bins in the histogram? \n",
    "\n",
    "- $[0,3)$\n",
    "- $(3,5]$\n",
    "- $[5,7]$\n",
    "- $[7,8)$\n",
    "- $[10,\\infty)$"
   ]
  },
  {
   "cell_type": "markdown",
   "metadata": {},
   "source": [
    "___"
   ]
  },
  {
   "cell_type": "code",
   "execution_count": 9,
   "metadata": {},
   "outputs": [
    {
     "data": {
      "text/html": [
       "<table border=\"1\" class=\"dataframe\">\n",
       "    <thead>\n",
       "        <tr>\n",
       "            <th>Title</th> <th>Studio</th> <th>Gross</th> <th>Gross (Adjusted)</th> <th>Year</th>\n",
       "        </tr>\n",
       "    </thead>\n",
       "    <tbody>\n",
       "        <tr>\n",
       "            <td>Gone with the Wind         </td> <td>MGM      </td> <td>198676459</td> <td>1796176700      </td> <td>1939</td>\n",
       "        </tr>\n",
       "        <tr>\n",
       "            <td>Star Wars                  </td> <td>Fox      </td> <td>460998007</td> <td>1583483200      </td> <td>1977</td>\n",
       "        </tr>\n",
       "        <tr>\n",
       "            <td>The Sound of Music         </td> <td>Fox      </td> <td>158671368</td> <td>1266072700      </td> <td>1965</td>\n",
       "        </tr>\n",
       "        <tr>\n",
       "            <td>E.T.: The Extra-Terrestrial</td> <td>Universal</td> <td>435110554</td> <td>1261085000      </td> <td>1982</td>\n",
       "        </tr>\n",
       "        <tr>\n",
       "            <td>Titanic                    </td> <td>Paramount</td> <td>658672302</td> <td>1204368000      </td> <td>1997</td>\n",
       "        </tr>\n",
       "        <tr>\n",
       "            <td>The Ten Commandments       </td> <td>Paramount</td> <td>65500000 </td> <td>1164590000      </td> <td>1956</td>\n",
       "        </tr>\n",
       "    </tbody>\n",
       "</table>\n",
       "<p>... (194 rows omitted)</p>"
      ],
      "text/plain": [
       "<IPython.core.display.HTML object>"
      ]
     },
     "metadata": {},
     "output_type": "display_data"
    }
   ],
   "source": [
    "top_movies = Table.read_table('top_movies_2017.csv')\n",
    "top_movies.show(6)"
   ]
  },
  {
   "cell_type": "code",
   "execution_count": 10,
   "metadata": {},
   "outputs": [
    {
     "data": {
      "image/png": "[encoded data removed]",
      "text/plain": [
       "<Figure size 600x400 with 1 Axes>"
      ]
     },
     "metadata": {},
     "output_type": "display_data"
    }
   ],
   "source": [
    "ages = 2024 - top_movies.column('Year')\n",
    "top_movies = top_movies.with_column('Age', ages)\n",
    "my_bins = make_array(0, 5, 10, 15, 25, 40, 65, 103)\n",
    "top_movies.hist('Age', bins = my_bins, unit = 'Year')"
   ]
  },
  {
   "cell_type": "markdown",
   "metadata": {},
   "source": [
    "**Discussion Question 3**: Compare the bins $[25, 40)$ and $[40, 65)$. \n",
    "\n",
    "- Which one has more movies?\n",
    "- Which one is more crowded?"
   ]
  },
  {
   "cell_type": "markdown",
   "metadata": {},
   "source": [
    "## New material"
   ]
  },
  {
   "cell_type": "markdown",
   "metadata": {},
   "source": [
    "### Create functions with a definition"
   ]
  },
  {
   "cell_type": "markdown",
   "metadata": {},
   "source": [
    "```python\n",
    "def functionname(Arguments_Parameters_Expressions_or_Values):  \n",
    "    \"\"\"docstring\"\"\"\n",
    "      return return_expression\n",
    "```"
   ]
  },
  {
   "cell_type": "markdown",
   "metadata": {},
   "source": [
    "#### **Task:** Create a function that takes a numerical input and triples it."
   ]
  },
  {
   "cell_type": "code",
   "execution_count": 11,
   "metadata": {},
   "outputs": [],
   "source": [
    "def triple(x):\n",
    "    \"\"\"triples the numerical input\"\"\"\n",
    "    return 3 * x"
   ]
  },
  {
   "cell_type": "code",
   "execution_count": 12,
   "metadata": {},
   "outputs": [
    {
     "data": {
      "text/plain": [
       "9"
      ]
     },
     "execution_count": 12,
     "metadata": {},
     "output_type": "execute_result"
    }
   ],
   "source": [
    "triple(3)"
   ]
  },
  {
   "cell_type": "code",
   "execution_count": 13,
   "metadata": {},
   "outputs": [],
   "source": [
    "num = 4"
   ]
  },
  {
   "cell_type": "code",
   "execution_count": 14,
   "metadata": {},
   "outputs": [
    {
     "data": {
      "text/plain": [
       "12"
      ]
     },
     "execution_count": 14,
     "metadata": {},
     "output_type": "execute_result"
    }
   ],
   "source": [
    "triple(num)"
   ]
  },
  {
   "cell_type": "code",
   "execution_count": 15,
   "metadata": {},
   "outputs": [
    {
     "data": {
      "text/plain": [
       "60"
      ]
     },
     "execution_count": 15,
     "metadata": {},
     "output_type": "execute_result"
    }
   ],
   "source": [
    "triple(num * 5)"
   ]
  },
  {
   "cell_type": "markdown",
   "metadata": {},
   "source": [
    "**Note:** Functions are type-agnostic."
   ]
  },
  {
   "cell_type": "code",
   "execution_count": 16,
   "metadata": {},
   "outputs": [
    {
     "data": {
      "text/plain": [
       "array([0, 3, 6, 9])"
      ]
     },
     "execution_count": 16,
     "metadata": {},
     "output_type": "execute_result"
    }
   ],
   "source": [
    "triple(np.arange(4))"
   ]
  },
  {
   "cell_type": "code",
   "execution_count": 17,
   "metadata": {
    "scrolled": true
   },
   "outputs": [
    {
     "data": {
      "text/plain": [
       "'hahaha'"
      ]
     },
     "execution_count": 17,
     "metadata": {},
     "output_type": "execute_result"
    }
   ],
   "source": [
    "triple('ha')"
   ]
  },
  {
   "cell_type": "markdown",
   "metadata": {},
   "source": [
    "**Discussion Question 4:**\n",
    "\n",
    "- What type of input does `f` take?\n",
    "- What type of output does `f` produce?\n",
    "- What's a good name for the function (and what might go in the docstring)?\n",
    "\n",
    "```python\n",
    "def f(s):    \n",
    "    \"\"\"docstring\"\"\"\n",
    "      return np.round(s / sum(s) * 100, 2)\n",
    "```"
   ]
  },
  {
   "cell_type": "code",
   "execution_count": 4,
   "metadata": {},
   "outputs": [],
   "source": [
    "def f(s):\n",
    "    \"\"\"docstring\"\"\"\n",
    "    return np.round(s / sum(s) * 100, 2)"
   ]
  },
  {
   "cell_type": "code",
   "execution_count": null,
   "metadata": {},
   "outputs": [],
   "source": [
    "first_four=make_array(1,2,3,4)\n",
    "first_four"
   ]
  },
  {
   "cell_type": "code",
   "execution_count": null,
   "metadata": {},
   "outputs": [],
   "source": [
    "f(first_four)"
   ]
  },
  {
   "cell_type": "code",
   "execution_count": null,
   "metadata": {},
   "outputs": [],
   "source": [
    "f(make_array(1, 213, 38))"
   ]
  },
  {
   "cell_type": "markdown",
   "metadata": {},
   "source": [
    "_____"
   ]
  },
  {
   "cell_type": "markdown",
   "metadata": {},
   "source": [
    "**Task:** Calculate the hypotenuse length of a right triangle."
   ]
  },
  {
   "cell_type": "markdown",
   "metadata": {},
   "source": [
    "Pythagoras's Theorem: If $x$ and $y$ denote the lengths of the right-angle sides, then the hypotenuse length $h$ satisfies:\n",
    "\n",
    "$$ h^2 = x^2 + y^2 \\qquad \\text{which implies}\\qquad \\hspace{20 pt} h = \\sqrt{ x^2 + y^2 } $$"
   ]
  },
  {
   "cell_type": "code",
   "execution_count": 19,
   "metadata": {},
   "outputs": [],
   "source": [
    "def hypotenuse(x, y):\n",
    "    \"\"\"finds the hypotenuse of a right triangle with right-angle sides of length x and y\"\"\"\n",
    "    hypot_squared = (x ** 2 + y ** 2)\n",
    "    hypot = hypot_squared ** 0.5\n",
    "    return hypot"
   ]
  },
  {
   "cell_type": "code",
   "execution_count": null,
   "metadata": {},
   "outputs": [],
   "source": [
    "hypotenuse(1, 2)"
   ]
  },
  {
   "cell_type": "code",
   "execution_count": null,
   "metadata": {},
   "outputs": [],
   "source": [
    "hypotenuse(3, 4)"
   ]
  },
  {
   "cell_type": "code",
   "execution_count": null,
   "metadata": {},
   "outputs": [],
   "source": [
    "hypotenuse(9, 12)"
   ]
  },
  {
   "cell_type": "markdown",
   "metadata": {},
   "source": [
    "**Discussion Question 5**: We could've typed the body all in one line. Do you find this more readable or less readable than the original version?"
   ]
  },
  {
   "cell_type": "code",
   "execution_count": 18,
   "metadata": {},
   "outputs": [],
   "source": [
    "def hypotenuse(x,y):\n",
    "    \"\"\"finds the hypotenuse of a right triangle with right-angle sides of length x and y\"\"\"\n",
    "    return (x ** 2 + y ** 2) ** 0.5"
   ]
  },
  {
   "cell_type": "markdown",
   "metadata": {},
   "source": [
    "____"
   ]
  },
  {
   "cell_type": "markdown",
   "metadata": {},
   "source": [
    "#### **Task:** Create a function that takes the year of birth of a person and produces their age in years."
   ]
  },
  {
   "cell_type": "code",
   "execution_count": 7,
   "metadata": {},
   "outputs": [],
   "source": [
    "def age(year):\n",
    "    \"\"\"returns age in years\"\"\"\n",
    "    age = 2024 - year\n",
    "    return age"
   ]
  },
  {
   "cell_type": "code",
   "execution_count": null,
   "metadata": {},
   "outputs": [],
   "source": [
    "age(1942)"
   ]
  },
  {
   "cell_type": "markdown",
   "metadata": {},
   "source": [
    "#### **Task:** Create a function that:\n",
    "- takes a person's name and year of birth (two arguments). \n",
    "- produces a sentence that states how old they are."
   ]
  },
  {
   "cell_type": "code",
   "execution_count": 20,
   "metadata": {},
   "outputs": [],
   "source": [
    "def name_and_age(name, year):\n",
    "    \"\"\"returns a sentence stating a person's age in years\"\"\"\n",
    "    return name + ' is ' + str(age(year)) + ' years old.'"
   ]
  },
  {
   "cell_type": "code",
   "execution_count": 21,
   "metadata": {
    "scrolled": true
   },
   "outputs": [
    {
     "data": {
      "text/plain": [
       "'Joe is 82 years old.'"
      ]
     },
     "execution_count": 21,
     "metadata": {},
     "output_type": "execute_result"
    }
   ],
   "source": [
    "name_and_age('Joe', 1942)"
   ]
  },
  {
   "cell_type": "markdown",
   "metadata": {},
   "source": [
    "### Use functions on table columns with `apply` "
   ]
  },
  {
   "cell_type": "code",
   "execution_count": 22,
   "metadata": {
    "scrolled": true
   },
   "outputs": [
    {
     "data": {
      "text/html": [
       "<table border=\"1\" class=\"dataframe\">\n",
       "    <thead>\n",
       "        <tr>\n",
       "            <th>First Name</th> <th>Birth Year</th>\n",
       "        </tr>\n",
       "    </thead>\n",
       "    <tbody>\n",
       "        <tr>\n",
       "            <td>Cristina  </td> <td>2005      </td>\n",
       "        </tr>\n",
       "        <tr>\n",
       "            <td>Azalea    </td> <td>2004      </td>\n",
       "        </tr>\n",
       "        <tr>\n",
       "            <td>Farah     </td> <td>2004      </td>\n",
       "        </tr>\n",
       "        <tr>\n",
       "            <td>Izzy      </td> <td>2005      </td>\n",
       "        </tr>\n",
       "        <tr>\n",
       "            <td>Lubo      </td> <td>2004      </td>\n",
       "        </tr>\n",
       "    </tbody>\n",
       "</table>"
      ],
      "text/plain": [
       "First Name | Birth Year\n",
       "Cristina   | 2005\n",
       "Azalea     | 2004\n",
       "Farah      | 2004\n",
       "Izzy       | 2005\n",
       "Lubo       | 2004"
      ]
     },
     "execution_count": 22,
     "metadata": {},
     "output_type": "execute_result"
    }
   ],
   "source": [
    "fam = Table().with_columns(\n",
    "    'First Name', make_array('Cristina', 'Azalea', 'Farah', 'Izzy', 'Lubo'),\n",
    "    'Birth Year', make_array(2005, 2004, 2004, 2005, 2004)\n",
    ")\n",
    "fam"
   ]
  },
  {
   "cell_type": "code",
   "execution_count": 23,
   "metadata": {},
   "outputs": [
    {
     "data": {
      "text/plain": [
       "array([19, 20, 20, 19, 20])"
      ]
     },
     "execution_count": 23,
     "metadata": {},
     "output_type": "execute_result"
    }
   ],
   "source": [
    "make_array(age(fam.column('Birth Year').item(0)),\n",
    "           age(fam.column('Birth Year').item(1)),\n",
    "           age(fam.column('Birth Year').item(2)),\n",
    "           age(fam.column('Birth Year').item(3)),\n",
    "           age(fam.column('Birth Year').item(4)))"
   ]
  },
  {
   "cell_type": "code",
   "execution_count": 24,
   "metadata": {},
   "outputs": [
    {
     "data": {
      "text/plain": [
       "array([19, 20, 20, 19, 20])"
      ]
     },
     "execution_count": 24,
     "metadata": {},
     "output_type": "execute_result"
    }
   ],
   "source": [
    "fam.apply(age, 'Birth Year')"
   ]
  },
  {
   "cell_type": "code",
   "execution_count": 25,
   "metadata": {
    "scrolled": true
   },
   "outputs": [
    {
     "data": {
      "text/plain": [
       "array(['Cristina is 19 years old.', 'Azalea is 20 years old.',\n",
       "       'Farah is 20 years old.', 'Izzy is 19 years old.',\n",
       "       'Lubo is 20 years old.'],\n",
       "      dtype='<U25')"
      ]
     },
     "execution_count": 25,
     "metadata": {},
     "output_type": "execute_result"
    }
   ],
   "source": [
    "fam.apply(name_and_age, 'First Name', 'Birth Year')"
   ]
  },
  {
   "cell_type": "code",
   "execution_count": 26,
   "metadata": {},
   "outputs": [
    {
     "data": {
      "text/html": [
       "<table border=\"1\" class=\"dataframe\">\n",
       "    <thead>\n",
       "        <tr>\n",
       "            <th>First Name</th> <th>Birth Year</th> <th>Statement</th>\n",
       "        </tr>\n",
       "    </thead>\n",
       "    <tbody>\n",
       "        <tr>\n",
       "            <td>Cristina  </td> <td>2005      </td> <td>Cristina is 19 years old.</td>\n",
       "        </tr>\n",
       "        <tr>\n",
       "            <td>Azalea    </td> <td>2004      </td> <td>Azalea is 20 years old.  </td>\n",
       "        </tr>\n",
       "        <tr>\n",
       "            <td>Farah     </td> <td>2004      </td> <td>Farah is 20 years old.   </td>\n",
       "        </tr>\n",
       "        <tr>\n",
       "            <td>Izzy      </td> <td>2005      </td> <td>Izzy is 19 years old.    </td>\n",
       "        </tr>\n",
       "        <tr>\n",
       "            <td>Lubo      </td> <td>2004      </td> <td>Lubo is 20 years old.    </td>\n",
       "        </tr>\n",
       "    </tbody>\n",
       "</table>"
      ],
      "text/plain": [
       "First Name | Birth Year | Statement\n",
       "Cristina   | 2005       | Cristina is 19 years old.\n",
       "Azalea     | 2004       | Azalea is 20 years old.\n",
       "Farah      | 2004       | Farah is 20 years old.\n",
       "Izzy       | 2005       | Izzy is 19 years old.\n",
       "Lubo       | 2004       | Lubo is 20 years old."
      ]
     },
     "execution_count": 26,
     "metadata": {},
     "output_type": "execute_result"
    }
   ],
   "source": [
    "fam.with_columns(\"Statement\",\n",
    "                 fam.apply(name_and_age, 'First Name', 'Birth Year'))"
   ]
  }
 ],
 "metadata": {
  "anaconda-cloud": {},
  "kernelspec": {
   "display_name": "Python 3 (ipykernel)",
   "language": "python",
   "name": "python3"
  },
  "language_info": {
   "codemirror_mode": {
    "name": "ipython",
    "version": 3
   },
   "file_extension": ".py",
   "mimetype": "text/x-python",
   "name": "python",
   "nbconvert_exporter": "python",
   "pygments_lexer": "ipython3",
   "version": "3.12.4"
  }
 },
 "nbformat": 4,
 "nbformat_minor": 4
}
