{
 "cells": [
  {
   "cell_type": "code",
   "execution_count": null,
   "id": "802c600b-7e62-4fd6-8203-ce13ae25ddf8",
   "metadata": {},
   "outputs": [],
   "source": [
    "from datascience import *\n",
    "import numpy as np\n",
    "import matplotlib\n",
    "\n",
    "%matplotlib inline\n",
    "import matplotlib.pyplot as plt\n",
    "plt.style.use('fivethirtyeight')\n",
    "\n",
    "import warnings\n",
    "warnings.simplefilter(\"ignore\")"
   ]
  },
  {
   "cell_type": "markdown",
   "id": "9e204149-3e5e-4819-b3cc-b121488db434",
   "metadata": {},
   "source": [
    "## Review"
   ]
  },
  {
   "cell_type": "code",
   "execution_count": null,
   "id": "e5d0e079-1778-4bfc-b653-0cfcbc9f8749",
   "metadata": {},
   "outputs": [],
   "source": [
    "def standard_units(x):\n",
    "    return (x - np.mean(x))/np.std(x)"
   ]
  },
  {
   "cell_type": "code",
   "execution_count": null,
   "id": "5e916449-5640-4498-8e4a-25034f61c6d9",
   "metadata": {},
   "outputs": [],
   "source": [
    "ckd = Table.read_table('ckd.csv').relabeled('Blood Glucose Random', 'Glucose')\n",
    "ckd.sample(3).show(3)"
   ]
  },
  {
   "cell_type": "code",
   "execution_count": null,
   "id": "f2ae5915-c8e0-4af6-80e6-4d2c6e14a530",
   "metadata": {},
   "outputs": [],
   "source": [
    "ckd = ckd.select('Hemoglobin', 'Glucose', 'Class')"
   ]
  },
  {
   "cell_type": "code",
   "execution_count": null,
   "id": "c56a792c-bcea-4dfd-a9c5-f402ef2c6f13",
   "metadata": {},
   "outputs": [],
   "source": [
    "ckd.sample(3).show(3)"
   ]
  },
  {
   "cell_type": "markdown",
   "id": "fd6ae311-883e-42ad-980b-d5920688f136",
   "metadata": {},
   "source": [
    "______"
   ]
  },
  {
   "cell_type": "code",
   "execution_count": null,
   "id": "b39e5034-fb7d-45ce-b01c-d09c2e1148da",
   "metadata": {},
   "outputs": [],
   "source": [
    "banknotes = Table.read_table('banknote.csv')\n",
    "banknotes"
   ]
  },
  {
   "cell_type": "markdown",
   "id": "131da81c-44f8-4d03-bcae-0f1a35500dbf",
   "metadata": {},
   "source": [
    "## New material"
   ]
  },
  {
   "cell_type": "markdown",
   "id": "fb757ea5-7cd8-4905-b400-4b3959cbac44",
   "metadata": {},
   "source": [
    "Here's our example point for today."
   ]
  },
  {
   "cell_type": "code",
   "execution_count": null,
   "id": "34f298a3-e35d-41bd-8661-299d98605308",
   "metadata": {},
   "outputs": [],
   "source": [
    "alice = make_array(0,1.1)\n",
    "alice"
   ]
  },
  {
   "cell_type": "markdown",
   "id": "7dff3a39-f1bd-48a0-8d52-947d7ed5a2dc",
   "metadata": {},
   "source": [
    "### How can we find the *k*-nearest neighbors?"
   ]
  },
  {
   "cell_type": "markdown",
   "id": "d803109e-9b18-434c-be4c-4d25cc9d7469",
   "metadata": {},
   "source": [
    "___"
   ]
  },
  {
   "cell_type": "markdown",
   "id": "1bfc8e42-2408-49a9-a600-9bb122f2e29f",
   "metadata": {},
   "source": [
    "#### Detour: Rows and row objects"
   ]
  },
  {
   "cell_type": "code",
   "execution_count": null,
   "id": "1d1be082-d294-40f9-8135-267a8be81bc4",
   "metadata": {},
   "outputs": [],
   "source": [
    "type(ckd.row(0))"
   ]
  },
  {
   "cell_type": "code",
   "execution_count": null,
   "id": "d046f83a-5b4e-4242-b605-65055fde97df",
   "metadata": {},
   "outputs": [],
   "source": [
    "ckd.row(0)"
   ]
  },
  {
   "cell_type": "code",
   "execution_count": null,
   "id": "efc92391-e65d-4210-a04a-358a58f004fb",
   "metadata": {},
   "outputs": [],
   "source": [
    "ckd.row(0).item(1)"
   ]
  },
  {
   "cell_type": "code",
   "execution_count": null,
   "id": "0cbd95bb-8d76-46ef-929d-71c29d5fba49",
   "metadata": {},
   "outputs": [],
   "source": [
    "make_array(ckd.row(0))"
   ]
  },
  {
   "cell_type": "markdown",
   "id": "77e31854-d337-4968-b258-bfd49bb9130e",
   "metadata": {},
   "source": [
    "_____"
   ]
  },
  {
   "cell_type": "markdown",
   "id": "b4af23db-67e0-45e8-adde-cac5dc4e785a",
   "metadata": {},
   "source": [
    "First row in the training set:"
   ]
  },
  {
   "cell_type": "code",
   "execution_count": null,
   "id": "aecd21b3-6160-4fc1-8c72-8b6bc9760f2f",
   "metadata": {},
   "outputs": [],
   "source": [
    "patient = ckd.drop('Class').row(0)"
   ]
  },
  {
   "cell_type": "code",
   "execution_count": null,
   "id": "93609ccc-9a2e-4522-9b35-bf782ded8ca9",
   "metadata": {},
   "outputs": [],
   "source": [
    "make_array(patient)"
   ]
  },
  {
   "cell_type": "markdown",
   "id": "86db5870-e467-4965-a98e-d22e230859ac",
   "metadata": {},
   "source": [
    "#### **Task**: Let's find a distance between `alice` and the training point.\n",
    "\n",
    "$$ \\text{D} = \\sqrt{(x_0-x_1)^2 + (y_0-y_1)^2} $$"
   ]
  },
  {
   "cell_type": "markdown",
   "id": "018389e9-310e-449b-be69-098fbf462504",
   "metadata": {},
   "source": [
    "#### **Task**: Calculate the Euclidean distance between `alice` and every point in the training set."
   ]
  },
  {
   "cell_type": "markdown",
   "id": "62f668a2-9680-449e-974f-ba94264a6677",
   "metadata": {},
   "source": [
    "#### **Task:** Augment the training data table with a column containing all the distances."
   ]
  },
  {
   "cell_type": "markdown",
   "id": "0b43a714-d068-4395-becf-664de0219155",
   "metadata": {},
   "source": [
    "#### **Task**: Find the 5 nearest neighbors."
   ]
  },
  {
   "cell_type": "markdown",
   "id": "660a89fc-577c-4732-919e-2835fa9898f1",
   "metadata": {},
   "source": [
    "### How do we classify the point?"
   ]
  },
  {
   "cell_type": "markdown",
   "id": "dca5aadf-b6ea-408b-a670-f88aa2410ad3",
   "metadata": {},
   "source": [
    "#### **Task**: Find the majority class (programatically)."
   ]
  },
  {
   "cell_type": "markdown",
   "id": "7a34793e-28bb-4a6b-8cad-c60834c00e19",
   "metadata": {},
   "source": [
    "#### **Task:** Write a function to complete the entire algorithm!"
   ]
  },
  {
   "cell_type": "markdown",
   "id": "098d964b-463a-496a-b430-b5bf95847dc5",
   "metadata": {},
   "source": [
    "______"
   ]
  },
  {
   "cell_type": "code",
   "execution_count": 3,
   "id": "f7d97df4-738d-4d73-9360-dd0feae6225d",
   "metadata": {},
   "outputs": [
    {
     "ename": "NameError",
     "evalue": "name 'banknotes' is not defined",
     "output_type": "error",
     "traceback": [
      "\u001b[0;31m---------------------------------------------------------------------------\u001b[0m",
      "\u001b[0;31mNameError\u001b[0m                                 Traceback (most recent call last)",
      "Cell \u001b[0;32mIn[3], line 1\u001b[0m\n\u001b[0;32m----> 1\u001b[0m first_banknote \u001b[38;5;241m=\u001b[39m banknotes\u001b[38;5;241m.\u001b[39mdrop(\u001b[38;5;124m'\u001b[39m\u001b[38;5;124mClass\u001b[39m\u001b[38;5;124m'\u001b[39m)\u001b[38;5;241m.\u001b[39mrow(\u001b[38;5;241m0\u001b[39m)\n\u001b[1;32m      2\u001b[0m first_banknote\n",
      "\u001b[0;31mNameError\u001b[0m: name 'banknotes' is not defined"
     ]
    }
   ],
   "source": [
    "first_banknote = banknotes.drop('Class').row(0)\n",
    "first_banknote"
   ]
  }
 ],
 "metadata": {
  "kernelspec": {
   "display_name": "Python 3 (ipykernel)",
   "language": "python",
   "name": "python3"
  },
  "language_info": {
   "codemirror_mode": {
    "name": "ipython",
    "version": 3
   },
   "file_extension": ".py",
   "mimetype": "text/x-python",
   "name": "python",
   "nbconvert_exporter": "python",
   "pygments_lexer": "ipython3",
   "version": "3.12.4"
  }
 },
 "nbformat": 4,
 "nbformat_minor": 5
}
