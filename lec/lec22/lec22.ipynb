{
 "cells": [
  {
   "cell_type": "code",
   "execution_count": 3,
   "id": "01437af7-c222-4796-aebb-e18d6ffe7aee",
   "metadata": {},
   "outputs": [],
   "source": [
    "from datascience import *\n",
    "import numpy as np\n",
    "\n",
    "%matplotlib inline\n",
    "import matplotlib.pyplot as plots\n",
    "plots.style.use('fivethirtyeight')\n",
    "\n",
    "import warnings\n",
    "warnings.simplefilter(\"ignore\")"
   ]
  },
  {
   "cell_type": "markdown",
   "id": "4ad127cf-743b-4d75-bda7-8641a8a0aa49",
   "metadata": {},
   "source": [
    "## Review"
   ]
  },
  {
   "cell_type": "code",
   "execution_count": 4,
   "id": "35a3e098-0aab-414d-ab62-f3770e616405",
   "metadata": {},
   "outputs": [],
   "source": [
    "welcome_survey = Table().read_table(\"welcome-survey.csv\")"
   ]
  },
  {
   "cell_type": "code",
   "execution_count": 5,
   "id": "3543dbc9-080b-48c3-9bc8-28ac5ba57767",
   "metadata": {},
   "outputs": [
    {
     "data": {
      "text/html": [
       "<table border=\"1\" class=\"dataframe\">\n",
       "    <thead>\n",
       "        <tr>\n",
       "            <th>Year</th> <th>Minority</th> <th>Major</th> <th>Programming</th> <th>Programming.Affinity</th> <th>Statistics</th> <th>Letter.Grade</th> <th>Requirement</th> <th>Birthday</th> <th>Extrovert</th> <th>People.Texted</th> <th>Hours.of.Sleep</th> <th>Handedness</th> <th>Sleep.Position</th> <th>Pets</th> <th>Piercings</th> <th>Languages</th>\n",
       "        </tr>\n",
       "    </thead>\n",
       "    <tbody>\n",
       "        <tr>\n",
       "            <td>First Year </td> <td>No      </td> <td>Business, Cognitive Science</td> <td>False      </td> <td>2                   </td> <td>True      </td> <td>Yes         </td> <td>Yes        </td> <td>9/22    </td> <td>5        </td> <td>3            </td> <td>8             </td> <td>Right-handed</td> <td>On your back      </td> <td>False</td> <td>0        </td> <td>3        </td>\n",
       "        </tr>\n",
       "        <tr>\n",
       "            <td>Second Year</td> <td>No      </td> <td>Applied Math, Physics      </td> <td>False      </td> <td>3                   </td> <td>False     </td> <td>Yes         </td> <td>No         </td> <td>2/11    </td> <td>8        </td> <td>20           </td> <td>7             </td> <td>Right-handed</td> <td>On your right side</td> <td>True </td> <td>2        </td> <td>2        </td>\n",
       "        </tr>\n",
       "        <tr>\n",
       "            <td>First Year </td> <td>Yes     </td> <td>Applied Math               </td> <td>False      </td> <td>1                   </td> <td>False     </td> <td>Maybe       </td> <td>Yes        </td> <td>5/24    </td> <td>5        </td> <td>4            </td> <td>8             </td> <td>Right-handed</td> <td>On your left side </td> <td>True </td> <td>5        </td> <td>3        </td>\n",
       "        </tr>\n",
       "        <tr>\n",
       "            <td>Second Year</td> <td>No      </td> <td>Chemical Engineering       </td> <td>True       </td> <td>4                   </td> <td>True      </td> <td>Yes         </td> <td>Yes        </td> <td>10/12   </td> <td>8        </td> <td>7            </td> <td>6             </td> <td>Right-handed</td> <td>On your stomach   </td> <td>True </td> <td>0        </td> <td>1        </td>\n",
       "        </tr>\n",
       "        <tr>\n",
       "            <td>First Year </td> <td>No      </td> <td>Data Science               </td> <td>True       </td> <td>3                   </td> <td>False     </td> <td>Yes         </td> <td>Yes        </td> <td>3/31    </td> <td>5        </td> <td>4            </td> <td>8             </td> <td>Right-handed</td> <td>On your right side</td> <td>False</td> <td>0        </td> <td>2        </td>\n",
       "        </tr>\n",
       "    </tbody>\n",
       "</table>\n",
       "<p>... (1031 rows omitted)</p>"
      ],
      "text/plain": [
       "<IPython.core.display.HTML object>"
      ]
     },
     "metadata": {},
     "output_type": "display_data"
    }
   ],
   "source": [
    "welcome_survey.show(5)"
   ]
  },
  {
   "cell_type": "markdown",
   "id": "91dc1235-9b3f-4659-9bec-03313d6d7db9",
   "metadata": {},
   "source": [
    "## **Task 1**\n"
   ]
  },
  {
   "cell_type": "code",
   "execution_count": null,
   "id": "35b8f8a3-566e-4478-8250-f6ccffee1a52",
   "metadata": {},
   "outputs": [],
   "source": []
  },
  {
   "cell_type": "code",
   "execution_count": null,
   "id": "853ffce6-ed9d-417d-8557-48a397cbe7e9",
   "metadata": {},
   "outputs": [],
   "source": []
  },
  {
   "cell_type": "code",
   "execution_count": null,
   "id": "b0704b1f-91b2-4a6a-aa22-16c5adb3639a",
   "metadata": {},
   "outputs": [],
   "source": []
  },
  {
   "cell_type": "markdown",
   "id": "f2d50018-3d4a-4372-9101-bbbdd5ee6873",
   "metadata": {},
   "source": [
    "____"
   ]
  },
  {
   "cell_type": "code",
   "execution_count": 7,
   "id": "017e68c4-7a37-4b19-a397-43562ea69ce0",
   "metadata": {},
   "outputs": [],
   "source": [
    "welcome_survey = welcome_survey.with_columns('Piercing?', welcome_survey.column('Piercings') > 0)"
   ]
  },
  {
   "cell_type": "markdown",
   "id": "6981c821-297d-4fbc-97c3-17a228b0d58d",
   "metadata": {},
   "source": [
    "## **Task 2:** \n"
   ]
  },
  {
   "cell_type": "code",
   "execution_count": null,
   "id": "0483f739-7f48-4864-bdc9-cbb9e39b4b63",
   "metadata": {},
   "outputs": [],
   "source": []
  },
  {
   "cell_type": "code",
   "execution_count": null,
   "id": "b9830e86-5bac-44b7-a5aa-7437957d4cea",
   "metadata": {},
   "outputs": [],
   "source": []
  },
  {
   "cell_type": "code",
   "execution_count": null,
   "id": "be55c9d4-ad46-4a4a-b695-ac1cfc820225",
   "metadata": {},
   "outputs": [],
   "source": []
  },
  {
   "cell_type": "markdown",
   "id": "7cfdae73-bd15-4bab-9b89-f85070320526",
   "metadata": {},
   "source": [
    "## **Task 3**\n",
    "\n"
   ]
  },
  {
   "cell_type": "code",
   "execution_count": null,
   "id": "d76d6230-454b-4dd6-b339-e4999d7ca3b2",
   "metadata": {},
   "outputs": [],
   "source": []
  },
  {
   "cell_type": "code",
   "execution_count": null,
   "id": "a587dfde-f3a4-494c-98da-9147fa698fec",
   "metadata": {},
   "outputs": [],
   "source": []
  },
  {
   "cell_type": "code",
   "execution_count": null,
   "id": "38c20d96-490d-46bf-8609-4774ab47a385",
   "metadata": {},
   "outputs": [],
   "source": []
  },
  {
   "cell_type": "code",
   "execution_count": null,
   "id": "a1793136-42f3-4ee4-a9f7-17794804bf64",
   "metadata": {},
   "outputs": [],
   "source": []
  }
 ],
 "metadata": {
  "kernelspec": {
   "display_name": "Python 3 (ipykernel)",
   "language": "python",
   "name": "python3"
  },
  "language_info": {
   "codemirror_mode": {
    "name": "ipython",
    "version": 3
   },
   "file_extension": ".py",
   "mimetype": "text/x-python",
   "name": "python",
   "nbconvert_exporter": "python",
   "pygments_lexer": "ipython3",
   "version": "3.12.4"
  }
 },
 "nbformat": 4,
 "nbformat_minor": 5
}
