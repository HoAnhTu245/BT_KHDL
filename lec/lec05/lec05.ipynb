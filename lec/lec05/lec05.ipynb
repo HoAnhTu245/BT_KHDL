{
 "cells": [
  {
   "cell_type": "code",
   "execution_count": 1,
   "id": "bee93afe-448d-4177-b1b6-26b294e6cf56",
   "metadata": {},
   "outputs": [],
   "source": [
    "from datascience import *\n",
    "import numpy as np"
   ]
  },
  {
   "cell_type": "markdown",
   "id": "5dfd45c1-7429-493b-a83f-30197c2a7640",
   "metadata": {},
   "source": [
    "## Review"
   ]
  },
  {
   "cell_type": "markdown",
   "id": "06df9485-6861-433b-bd2b-b8fbaffc3a14",
   "metadata": {},
   "source": [
    "**Discussion Question 1:** Question 4, Midterm, Spring 2023.\n",
    "- What will the following Python expression evaluate to?"
   ]
  },
  {
   "cell_type": "code",
   "execution_count": null,
   "id": "5be1ed82-7173-40d3-bd99-e695f27b0c0b",
   "metadata": {},
   "outputs": [],
   "source": [
    "'data' + str(round(8.2))"
   ]
  },
  {
   "cell_type": "markdown",
   "id": "8064204a-ff21-4196-998f-6446ac46c151",
   "metadata": {},
   "source": [
    "**Discussion Question 1:** Question 1, Final, Fall 2019.\n",
    "- What will the following Python expression evaluate to?"
   ]
  },
  {
   "cell_type": "code",
   "execution_count": null,
   "id": "12fa9794-5274-4535-8368-0344544ff84c",
   "metadata": {},
   "outputs": [],
   "source": [
    "make_array(1,2,3) * 2"
   ]
  },
  {
   "cell_type": "markdown",
   "id": "a343bbbb-31b7-4e6b-98c5-be14c71a56b0",
   "metadata": {},
   "source": [
    "____"
   ]
  },
  {
   "cell_type": "code",
   "execution_count": 3,
   "id": "3699013a-6d25-4540-918b-fc7690857996",
   "metadata": {},
   "outputs": [],
   "source": [
    "nba = Table.read_table('nba_salaries.csv')"
   ]
  },
  {
   "cell_type": "code",
   "execution_count": 5,
   "id": "4fbab426-13b4-4cc0-b2df-5fdcf9790392",
   "metadata": {},
   "outputs": [
    {
     "data": {
      "text/html": [
       "<table border=\"1\" class=\"dataframe\">\n",
       "    <thead>\n",
       "        <tr>\n",
       "            <th>rank</th> <th>name</th> <th>position</th> <th>team</th> <th>salary</th> <th>season</th>\n",
       "        </tr>\n",
       "    </thead>\n",
       "    <tbody>\n",
       "        <tr>\n",
       "            <td>61  </td> <td>Stephen Curry</td> <td>PG      </td> <td>Golden State Warriors</td> <td>11370786</td> <td>2016  </td>\n",
       "        </tr>\n",
       "        <tr>\n",
       "            <td>82  </td> <td>Stephen Curry</td> <td>PG      </td> <td>Golden State Warriors</td> <td>12112359</td> <td>2017  </td>\n",
       "        </tr>\n",
       "        <tr>\n",
       "            <td>1   </td> <td>Stephen Curry</td> <td>PG      </td> <td>Golden State Warriors</td> <td>37457154</td> <td>2018  </td>\n",
       "        </tr>\n",
       "        <tr>\n",
       "            <td>1   </td> <td>Stephen Curry</td> <td>PG      </td> <td>Golden State Warriors</td> <td>37457154</td> <td>2019  </td>\n",
       "        </tr>\n",
       "        <tr>\n",
       "            <td>1   </td> <td>Stephen Curry</td> <td>PG      </td> <td>Golden State Warriors</td> <td>40231758</td> <td>2020  </td>\n",
       "        </tr>\n",
       "    </tbody>\n",
       "</table>"
      ],
      "text/plain": [
       "rank | name          | position | team                  | salary   | season\n",
       "61   | Stephen Curry | PG       | Golden State Warriors | 11370786 | 2016\n",
       "82   | Stephen Curry | PG       | Golden State Warriors | 12112359 | 2017\n",
       "1    | Stephen Curry | PG       | Golden State Warriors | 37457154 | 2018\n",
       "1    | Stephen Curry | PG       | Golden State Warriors | 37457154 | 2019\n",
       "1    | Stephen Curry | PG       | Golden State Warriors | 40231758 | 2020"
      ]
     },
     "execution_count": 5,
     "metadata": {},
     "output_type": "execute_result"
    }
   ],
   "source": [
    "recent_curry = nba.where('name', 'Stephen Curry').where('season', are.above(2015))\n",
    "recent_curry"
   ]
  },
  {
   "cell_type": "markdown",
   "id": "21df9aed-b599-4c86-8b77-e8e3817559a7",
   "metadata": {},
   "source": [
    "**Discussion Question 3:** \n",
    "- Which of the following two lines of code correctly calculates the average salary of Steph Curry from 2016-2020?"
   ]
  },
  {
   "cell_type": "code",
   "execution_count": null,
   "id": "92e2e30f-94ac-4076-a201-0dcae60dface",
   "metadata": {},
   "outputs": [],
   "source": [
    "np.average(recent_curry.select('salary'))"
   ]
  },
  {
   "cell_type": "code",
   "execution_count": null,
   "id": "2625801c-98e9-4692-ada7-6e75734ceaf6",
   "metadata": {},
   "outputs": [],
   "source": [
    "np.average(recent_curry.column('salary'))"
   ]
  },
  {
   "cell_type": "markdown",
   "id": "91f81a3c-dd2c-4bb3-afea-29d5df1740eb",
   "metadata": {},
   "source": [
    "____"
   ]
  },
  {
   "cell_type": "code",
   "execution_count": 4,
   "id": "24143759-4ba3-4f63-a243-fc76472a0d1b",
   "metadata": {},
   "outputs": [
    {
     "data": {
      "text/html": [
       "<table border=\"1\" class=\"dataframe\">\n",
       "    <thead>\n",
       "        <tr>\n",
       "            <th>rank</th> <th>name</th> <th>position</th> <th>team</th> <th>salary</th> <th>season</th>\n",
       "        </tr>\n",
       "    </thead>\n",
       "    <tbody>\n",
       "        <tr>\n",
       "            <td>2   </td> <td>LeBron James</td> <td>SF      </td> <td>Cleveland Cavaliers</td> <td>22970500</td> <td>2016  </td>\n",
       "        </tr>\n",
       "        <tr>\n",
       "            <td>1   </td> <td>LeBron James</td> <td>SF      </td> <td>Cleveland Cavaliers</td> <td>30963450</td> <td>2017  </td>\n",
       "        </tr>\n",
       "        <tr>\n",
       "            <td>3   </td> <td>LeBron James</td> <td>SF      </td> <td>Los Angeles Lakers </td> <td>35654150</td> <td>2019  </td>\n",
       "        </tr>\n",
       "        <tr>\n",
       "            <td>7   </td> <td>LeBron James</td> <td>SF      </td> <td>Los Angeles Lakers </td> <td>37436858</td> <td>2020  </td>\n",
       "        </tr>\n",
       "    </tbody>\n",
       "</table>"
      ],
      "text/plain": [
       "rank | name         | position | team                | salary   | season\n",
       "2    | LeBron James | SF       | Cleveland Cavaliers | 22970500 | 2016\n",
       "1    | LeBron James | SF       | Cleveland Cavaliers | 30963450 | 2017\n",
       "3    | LeBron James | SF       | Los Angeles Lakers  | 35654150 | 2019\n",
       "7    | LeBron James | SF       | Los Angeles Lakers  | 37436858 | 2020"
      ]
     },
     "execution_count": 4,
     "metadata": {},
     "output_type": "execute_result"
    }
   ],
   "source": [
    "recent_lebron = nba.where('name', 'LeBron James').where('season', are.above(2015))\n",
    "recent_lebron"
   ]
  },
  {
   "cell_type": "markdown",
   "id": "46dc70ad-6555-40fe-af28-1460fd40a2ef",
   "metadata": {},
   "source": [
    "**Discussion Question (Challenge)**:\n",
    "- Which one of following calculations can be performed using array arithmetic and the tables `recent_curry` and `recent_lebron`?\n",
    "    - The difference in the average salaries of LeBron James and Stephen Curry from 2016-2020\n",
    "    - The average of the differences of salaries of Lebron James and Stephen Curry from 2016-2020"
   ]
  },
  {
   "cell_type": "code",
   "execution_count": null,
   "id": "2acc87ee-0b14-41fe-8a5b-965941442933",
   "metadata": {},
   "outputs": [],
   "source": [
    "np.average(recent_stephen_curry.column('salary'))"
   ]
  },
  {
   "cell_type": "markdown",
   "id": "23c71efc-1335-4ff1-8374-9461a945bfc7",
   "metadata": {},
   "source": [
    "## Ranges"
   ]
  },
  {
   "cell_type": "code",
   "execution_count": 7,
   "id": "6da835d7-157d-48de-89ce-ddf3fba99d20",
   "metadata": {},
   "outputs": [
    {
     "data": {
      "text/plain": [
       "array([0, 1, 2, 3, 4, 5, 6])"
      ]
     },
     "execution_count": 7,
     "metadata": {},
     "output_type": "execute_result"
    }
   ],
   "source": [
    "make_array(0,1,2,3,4,5,6)"
   ]
  },
  {
   "cell_type": "code",
   "execution_count": 8,
   "id": "97857cfa-975f-4ce5-9731-30fe219a23a1",
   "metadata": {},
   "outputs": [
    {
     "data": {
      "text/plain": [
       "array([0, 1, 2, 3, 4, 5, 6])"
      ]
     },
     "execution_count": 8,
     "metadata": {},
     "output_type": "execute_result"
    }
   ],
   "source": [
    "np.arange(7)"
   ]
  },
  {
   "cell_type": "code",
   "execution_count": 15,
   "id": "2f77dd73-4023-47af-9d96-c12c5c6cffc4",
   "metadata": {},
   "outputs": [
    {
     "data": {
      "text/plain": [
       "array([0, 1, 2, 3, 4, 5, 6])"
      ]
     },
     "execution_count": 15,
     "metadata": {},
     "output_type": "execute_result"
    }
   ],
   "source": [
    "np.arange(stop=7)"
   ]
  },
  {
   "cell_type": "code",
   "execution_count": 12,
   "id": "146c77a7-b8e2-4c65-8141-bc44d36ae64a",
   "metadata": {},
   "outputs": [
    {
     "data": {
      "text/plain": [
       "\u001b[0;31mDocstring:\u001b[0m\n",
       "arange([start,] stop[, step,], dtype=None, *, like=None)\n",
       "\n",
       "Return evenly spaced values within a given interval.\n",
       "\n",
       "``arange`` can be called with a varying number of positional arguments:\n",
       "\n",
       "* ``arange(stop)``: Values are generated within the half-open interval\n",
       "  ``[0, stop)`` (in other words, the interval including `start` but\n",
       "  excluding `stop`).\n",
       "* ``arange(start, stop)``: Values are generated within the half-open\n",
       "  interval ``[start, stop)``.\n",
       "* ``arange(start, stop, step)`` Values are generated within the half-open\n",
       "  interval ``[start, stop)``, with spacing between values given by\n",
       "  ``step``.\n",
       "\n",
       "For integer arguments the function is roughly equivalent to the Python\n",
       "built-in :py:class:`range`, but returns an ndarray rather than a ``range``\n",
       "instance.\n",
       "\n",
       "When using a non-integer step, such as 0.1, it is often better to use\n",
       "`numpy.linspace`.\n",
       "\n",
       "See the Warning sections below for more information.\n",
       "\n",
       "Parameters\n",
       "----------\n",
       "start : integer or real, optional\n",
       "    Start of interval.  The interval includes this value.  The default\n",
       "    start value is 0.\n",
       "stop : integer or real\n",
       "    End of interval.  The interval does not include this value, except\n",
       "    in some cases where `step` is not an integer and floating point\n",
       "    round-off affects the length of `out`.\n",
       "step : integer or real, optional\n",
       "    Spacing between values.  For any output `out`, this is the distance\n",
       "    between two adjacent values, ``out[i+1] - out[i]``.  The default\n",
       "    step size is 1.  If `step` is specified as a position argument,\n",
       "    `start` must also be given.\n",
       "dtype : dtype, optional\n",
       "    The type of the output array.  If `dtype` is not given, infer the data\n",
       "    type from the other input arguments.\n",
       "like : array_like, optional\n",
       "    Reference object to allow the creation of arrays which are not\n",
       "    NumPy arrays. If an array-like passed in as ``like`` supports\n",
       "    the ``__array_function__`` protocol, the result will be defined\n",
       "    by it. In this case, it ensures the creation of an array object\n",
       "    compatible with that passed in via this argument.\n",
       "\n",
       "    .. versionadded:: 1.20.0\n",
       "\n",
       "Returns\n",
       "-------\n",
       "arange : ndarray\n",
       "    Array of evenly spaced values.\n",
       "\n",
       "    For floating point arguments, the length of the result is\n",
       "    ``ceil((stop - start)/step)``.  Because of floating point overflow,\n",
       "    this rule may result in the last element of `out` being greater\n",
       "    than `stop`.\n",
       "\n",
       "Warnings\n",
       "--------\n",
       "The length of the output might not be numerically stable.\n",
       "\n",
       "Another stability issue is due to the internal implementation of\n",
       "`numpy.arange`.\n",
       "The actual step value used to populate the array is\n",
       "``dtype(start + step) - dtype(start)`` and not `step`. Precision loss\n",
       "can occur here, due to casting or due to using floating points when\n",
       "`start` is much larger than `step`. This can lead to unexpected\n",
       "behaviour. For example::\n",
       "\n",
       "  >>> np.arange(0, 5, 0.5, dtype=int)\n",
       "  array([0, 0, 0, 0, 0, 0, 0, 0, 0, 0])\n",
       "  >>> np.arange(-3, 3, 0.5, dtype=int)\n",
       "  array([-3, -2, -1,  0,  1,  2,  3,  4,  5,  6,  7,  8])\n",
       "\n",
       "In such cases, the use of `numpy.linspace` should be preferred.\n",
       "\n",
       "The built-in :py:class:`range` generates :std:doc:`Python built-in integers\n",
       "that have arbitrary size <python:c-api/long>`, while `numpy.arange`\n",
       "produces `numpy.int32` or `numpy.int64` numbers. This may result in\n",
       "incorrect results for large integer values::\n",
       "\n",
       "  >>> power = 40\n",
       "  >>> modulo = 10000\n",
       "  >>> x1 = [(n ** power) % modulo for n in range(8)]\n",
       "  >>> x2 = [(n ** power) % modulo for n in np.arange(8)]\n",
       "  >>> print(x1)\n",
       "  [0, 1, 7776, 8801, 6176, 625, 6576, 4001]  # correct\n",
       "  >>> print(x2)\n",
       "  [0, 1, 7776, 7185, 0, 5969, 4816, 3361]  # incorrect\n",
       "\n",
       "See Also\n",
       "--------\n",
       "numpy.linspace : Evenly spaced numbers with careful handling of endpoints.\n",
       "numpy.ogrid: Arrays of evenly spaced numbers in N-dimensions.\n",
       "numpy.mgrid: Grid-shaped arrays of evenly spaced numbers in N-dimensions.\n",
       ":ref:`how-to-partition`\n",
       "\n",
       "Examples\n",
       "--------\n",
       ">>> np.arange(3)\n",
       "array([0, 1, 2])\n",
       ">>> np.arange(3.0)\n",
       "array([ 0.,  1.,  2.])\n",
       ">>> np.arange(3,7)\n",
       "array([3, 4, 5, 6])\n",
       ">>> np.arange(3,7,2)\n",
       "array([3, 5])\n",
       "\u001b[0;31mType:\u001b[0m      builtin_function_or_method"
      ]
     },
     "metadata": {},
     "output_type": "display_data"
    }
   ],
   "source": [
    "np.arange?"
   ]
  },
  {
   "cell_type": "code",
   "execution_count": 16,
   "id": "ce04120c-37f6-45c3-b5ec-7cd35da024c5",
   "metadata": {},
   "outputs": [
    {
     "data": {
      "text/plain": [
       "array([0, 1, 2, 3, 4, 5, 6])"
      ]
     },
     "execution_count": 16,
     "metadata": {},
     "output_type": "execute_result"
    }
   ],
   "source": [
    "np.arange(start=0, stop=7, step=1)"
   ]
  },
  {
   "cell_type": "code",
   "execution_count": 14,
   "id": "28dfc077-75ed-43fa-a307-9f430ddcf2fc",
   "metadata": {},
   "outputs": [
    {
     "data": {
      "text/plain": [
       "array([ 5,  6,  7,  8,  9, 10])"
      ]
     },
     "execution_count": 14,
     "metadata": {},
     "output_type": "execute_result"
    }
   ],
   "source": [
    "np.arange(5, 11)"
   ]
  },
  {
   "cell_type": "code",
   "execution_count": 18,
   "id": "58d5cd86-4178-4e8a-9f6f-3c9f98588aa4",
   "metadata": {},
   "outputs": [
    {
     "data": {
      "text/plain": [
       "array([ 0. ,  0.1,  0.2,  0.3,  0.4,  0.5,  0.6,  0.7,  0.8,  0.9])"
      ]
     },
     "execution_count": 18,
     "metadata": {},
     "output_type": "execute_result"
    }
   ],
   "source": [
    "np.arange(0, 1, 0.1)"
   ]
  },
  {
   "cell_type": "code",
   "execution_count": 17,
   "id": "eefe5c2d-a866-49af-bdd1-1044869c7e72",
   "metadata": {},
   "outputs": [
    {
     "data": {
      "text/plain": [
       "array([20, 18, 16, 14, 12, 10,  8,  6,  4,  2])"
      ]
     },
     "execution_count": 17,
     "metadata": {},
     "output_type": "execute_result"
    }
   ],
   "source": [
    "np.arange(20,0,-2)"
   ]
  },
  {
   "cell_type": "markdown",
   "id": "d3e4563c-bb78-4c3b-b619-0d86858534ff",
   "metadata": {},
   "source": [
    "**Discussion Question 4:**    \n",
    "- What will the following Python expression evaluate to?\n"
   ]
  },
  {
   "cell_type": "code",
   "execution_count": 23,
   "id": "96e51d20-5c0b-4853-bc66-e9a9fe6f5d5a",
   "metadata": {},
   "outputs": [
    {
     "data": {
      "text/plain": [
       "array([2, 4, 6])"
      ]
     },
     "execution_count": 23,
     "metadata": {},
     "output_type": "execute_result"
    }
   ],
   "source": [
    "make_array(1,2,3) + np.arange(start=1, stop=4)"
   ]
  },
  {
   "cell_type": "markdown",
   "id": "f8194f71-ac67-4a84-9d9d-96f91af8fd06",
   "metadata": {},
   "source": [
    "## Creating Tables"
   ]
  },
  {
   "cell_type": "markdown",
   "id": "4577499f-3164-4358-b2a9-6d717bd6e8da",
   "metadata": {},
   "source": [
    "**Way 1:** Reading from a file"
   ]
  },
  {
   "cell_type": "code",
   "execution_count": 26,
   "id": "c828c8d5-3bfa-4e4e-ab89-76ceca83f242",
   "metadata": {},
   "outputs": [
    {
     "data": {
      "text/html": [
       "<table border=\"1\" class=\"dataframe\">\n",
       "    <thead>\n",
       "        <tr>\n",
       "            <th>rank</th> <th>name</th> <th>position</th> <th>team</th> <th>salary</th> <th>season</th>\n",
       "        </tr>\n",
       "    </thead>\n",
       "    <tbody>\n",
       "        <tr>\n",
       "            <td>1   </td> <td>Shaquille O'Neal</td> <td>C       </td> <td>Los Angeles Lakers    </td> <td>17142000</td> <td>2000  </td>\n",
       "        </tr>\n",
       "        <tr>\n",
       "            <td>2   </td> <td>Kevin Garnett   </td> <td>PF      </td> <td>Minnesota Timberwolves</td> <td>16806000</td> <td>2000  </td>\n",
       "        </tr>\n",
       "        <tr>\n",
       "            <td>3   </td> <td>Alonzo Mourning </td> <td>C       </td> <td>Miami Heat            </td> <td>15004000</td> <td>2000  </td>\n",
       "        </tr>\n",
       "        <tr>\n",
       "            <td>4   </td> <td>Juwan Howard    </td> <td>PF      </td> <td>Washington Wizards    </td> <td>15000000</td> <td>2000  </td>\n",
       "        </tr>\n",
       "        <tr>\n",
       "            <td>5   </td> <td>Scottie Pippen  </td> <td>SF      </td> <td>Portland Trail Blazers</td> <td>14795000</td> <td>2000  </td>\n",
       "        </tr>\n",
       "        <tr>\n",
       "            <td>6   </td> <td>Karl Malone     </td> <td>PF      </td> <td>Utah Jazz             </td> <td>14000000</td> <td>2000  </td>\n",
       "        </tr>\n",
       "    </tbody>\n",
       "</table>\n",
       "<p>... (9450 rows omitted)</p>"
      ],
      "text/plain": [
       "<IPython.core.display.HTML object>"
      ]
     },
     "metadata": {},
     "output_type": "display_data"
    }
   ],
   "source": [
    "nba = Table.read_table('nba_salaries.csv')\n",
    "nba.show(6)"
   ]
  },
  {
   "cell_type": "markdown",
   "id": "675f9a70-c23f-49c6-8dd4-bc543ec13edf",
   "metadata": {},
   "source": [
    "**Way 2:** Creating from scratch"
   ]
  },
  {
   "cell_type": "code",
   "execution_count": 27,
   "id": "817105f4-3736-42ef-8cf9-776a7cc29f7b",
   "metadata": {},
   "outputs": [
    {
     "data": {
      "text/plain": [
       "array(['Bancroft', 'Durant', 'Channing', 'Haste'],\n",
       "      dtype='<U8')"
      ]
     },
     "execution_count": 27,
     "metadata": {},
     "output_type": "execute_result"
    }
   ],
   "source": [
    "streets = make_array('Bancroft', 'Durant', 'Channing', 'Haste')\n",
    "streets"
   ]
  },
  {
   "cell_type": "code",
   "execution_count": 28,
   "id": "d893396f-20d4-47b7-814f-ea91100543f6",
   "metadata": {},
   "outputs": [
    {
     "data": {
      "text/html": [
       "<table border=\"1\" class=\"dataframe\">\n",
       "    <thead>\n",
       "        <tr>\n",
       "            \n",
       "        </tr>\n",
       "    </thead>\n",
       "    <tbody>\n",
       "    </tbody>\n",
       "</table>"
      ],
      "text/plain": []
     },
     "execution_count": 28,
     "metadata": {},
     "output_type": "execute_result"
    }
   ],
   "source": [
    "Table()"
   ]
  },
  {
   "cell_type": "code",
   "execution_count": 29,
   "id": "4b8cf9df-f60c-4e8e-9904-eedfa283caac",
   "metadata": {},
   "outputs": [
    {
     "data": {
      "text/html": [
       "<table border=\"1\" class=\"dataframe\">\n",
       "    <thead>\n",
       "        <tr>\n",
       "            <th>Streets</th>\n",
       "        </tr>\n",
       "    </thead>\n",
       "    <tbody>\n",
       "        <tr>\n",
       "            <td>Bancroft</td>\n",
       "        </tr>\n",
       "        <tr>\n",
       "            <td>Durant  </td>\n",
       "        </tr>\n",
       "        <tr>\n",
       "            <td>Channing</td>\n",
       "        </tr>\n",
       "        <tr>\n",
       "            <td>Haste   </td>\n",
       "        </tr>\n",
       "    </tbody>\n",
       "</table>"
      ],
      "text/plain": [
       "Streets\n",
       "Bancroft\n",
       "Durant\n",
       "Channing\n",
       "Haste"
      ]
     },
     "execution_count": 29,
     "metadata": {},
     "output_type": "execute_result"
    }
   ],
   "source": [
    "southside = Table().with_column('Streets', streets)\n",
    "southside"
   ]
  },
  {
   "cell_type": "code",
   "execution_count": 30,
   "id": "afa1ac30-20ac-47b8-a478-386bc9feb73c",
   "metadata": {},
   "outputs": [
    {
     "data": {
      "text/html": [
       "<table border=\"1\" class=\"dataframe\">\n",
       "    <thead>\n",
       "        <tr>\n",
       "            <th>Streets</th> <th>Blocks from campus</th>\n",
       "        </tr>\n",
       "    </thead>\n",
       "    <tbody>\n",
       "        <tr>\n",
       "            <td>Bancroft</td> <td>0                 </td>\n",
       "        </tr>\n",
       "        <tr>\n",
       "            <td>Durant  </td> <td>1                 </td>\n",
       "        </tr>\n",
       "        <tr>\n",
       "            <td>Channing</td> <td>2                 </td>\n",
       "        </tr>\n",
       "        <tr>\n",
       "            <td>Haste   </td> <td>3                 </td>\n",
       "        </tr>\n",
       "    </tbody>\n",
       "</table>"
      ],
      "text/plain": [
       "Streets  | Blocks from campus\n",
       "Bancroft | 0\n",
       "Durant   | 1\n",
       "Channing | 2\n",
       "Haste    | 3"
      ]
     },
     "execution_count": 30,
     "metadata": {},
     "output_type": "execute_result"
    }
   ],
   "source": [
    "southside.with_column('Blocks from campus', np.arange(4))"
   ]
  },
  {
   "cell_type": "code",
   "execution_count": 31,
   "id": "7852e483-7906-4c07-8599-aa1359b6b0b9",
   "metadata": {},
   "outputs": [
    {
     "data": {
      "text/html": [
       "<table border=\"1\" class=\"dataframe\">\n",
       "    <thead>\n",
       "        <tr>\n",
       "            <th>Streets</th> <th>Blocks from campus</th>\n",
       "        </tr>\n",
       "    </thead>\n",
       "    <tbody>\n",
       "        <tr>\n",
       "            <td>Bancroft</td> <td>0                 </td>\n",
       "        </tr>\n",
       "        <tr>\n",
       "            <td>Durant  </td> <td>1                 </td>\n",
       "        </tr>\n",
       "        <tr>\n",
       "            <td>Channing</td> <td>2                 </td>\n",
       "        </tr>\n",
       "        <tr>\n",
       "            <td>Haste   </td> <td>3                 </td>\n",
       "        </tr>\n",
       "    </tbody>\n",
       "</table>"
      ],
      "text/plain": [
       "Streets  | Blocks from campus\n",
       "Bancroft | 0\n",
       "Durant   | 1\n",
       "Channing | 2\n",
       "Haste    | 3"
      ]
     },
     "execution_count": 31,
     "metadata": {},
     "output_type": "execute_result"
    }
   ],
   "source": [
    "Table().with_columns(\n",
    "    'Streets', streets,\n",
    "    'Blocks from campus', np.arange(4)\n",
    ")"
   ]
  },
  {
   "cell_type": "markdown",
   "id": "90c55df6-bf02-4a79-85c7-b02987b5735a",
   "metadata": {},
   "source": [
    "## Case Study: W.E.B. DuBois"
   ]
  },
  {
   "cell_type": "code",
   "execution_count": 48,
   "id": "c4120695-d49e-4ba8-89d4-9197fada6eea",
   "metadata": {},
   "outputs": [],
   "source": [
    "du_bois = Table.read_table('du_bois.csv')"
   ]
  },
  {
   "cell_type": "markdown",
   "id": "243fab88-ee76-48a8-b4a1-b9fc910edcc9",
   "metadata": {},
   "source": [
    "**Task**: Return the number of rows and columns in this dataset."
   ]
  },
  {
   "cell_type": "code",
   "execution_count": 47,
   "id": "7fb51cf3-4600-4785-aeaf-9fc9a4027d22",
   "metadata": {},
   "outputs": [
    {
     "data": {
      "text/plain": [
       "7"
      ]
     },
     "execution_count": 47,
     "metadata": {},
     "output_type": "execute_result"
    }
   ],
   "source": [
    "du_bois.num_rows"
   ]
  },
  {
   "cell_type": "code",
   "execution_count": 51,
   "id": "35574fdf-5e8f-4683-8a82-a1bc90dfd242",
   "metadata": {},
   "outputs": [
    {
     "data": {
      "text/plain": [
       "8"
      ]
     },
     "execution_count": 51,
     "metadata": {},
     "output_type": "execute_result"
    }
   ],
   "source": [
    "du_bois.num_columns"
   ]
  },
  {
   "cell_type": "markdown",
   "id": "1bfadcf9-776d-4084-91a1-40d4271696f2",
   "metadata": {},
   "source": [
    "**Task:** Return the information that was recorded on each \"individual\" in this dataset."
   ]
  },
  {
   "cell_type": "code",
   "execution_count": 53,
   "id": "b572728e-3fa6-47c0-9c80-264aeb6abb22",
   "metadata": {},
   "outputs": [
    {
     "data": {
      "text/plain": [
       "('CLASS',\n",
       " 'ACTUAL AVERAGE',\n",
       " 'RENT',\n",
       " 'FOOD',\n",
       " 'CLOTHES',\n",
       " 'TAXES',\n",
       " 'OTHER',\n",
       " 'STATUS')"
      ]
     },
     "execution_count": 53,
     "metadata": {},
     "output_type": "execute_result"
    }
   ],
   "source": [
    "du_bois.labels"
   ]
  },
  {
   "cell_type": "code",
   "execution_count": 52,
   "id": "6735d937-93a7-45dc-8be2-5120e1b1a533",
   "metadata": {},
   "outputs": [
    {
     "data": {
      "text/html": [
       "<table border=\"1\" class=\"dataframe\">\n",
       "    <thead>\n",
       "        <tr>\n",
       "            <th>CLASS</th> <th>ACTUAL AVERAGE</th> <th>RENT</th> <th>FOOD</th> <th>CLOTHES</th> <th>TAXES</th> <th>OTHER</th> <th>STATUS</th>\n",
       "        </tr>\n",
       "    </thead>\n",
       "    <tbody>\n",
       "        <tr>\n",
       "            <td>100-200      </td> <td>139.1         </td> <td>0.19</td> <td>0.43</td> <td>0.28   </td> <td>0.001</td> <td>0.099</td> <td>POOR       </td>\n",
       "        </tr>\n",
       "        <tr>\n",
       "            <td>200-300      </td> <td>249.45        </td> <td>0.22</td> <td>0.47</td> <td>0.23   </td> <td>0.04 </td> <td>0.04 </td> <td>POOR       </td>\n",
       "        </tr>\n",
       "        <tr>\n",
       "            <td>300-400      </td> <td>335.66        </td> <td>0.23</td> <td>0.43</td> <td>0.18   </td> <td>0.045</td> <td>0.115</td> <td>FAIR       </td>\n",
       "        </tr>\n",
       "        <tr>\n",
       "            <td>400-500      </td> <td>433.82        </td> <td>0.18</td> <td>0.37</td> <td>0.15   </td> <td>0.055</td> <td>0.245</td> <td>FAIR       </td>\n",
       "        </tr>\n",
       "        <tr>\n",
       "            <td>500-750      </td> <td>547           </td> <td>0.13</td> <td>0.31</td> <td>0.17   </td> <td>0.05 </td> <td>0.34 </td> <td>COMFORTABLE</td>\n",
       "        </tr>\n",
       "        <tr>\n",
       "            <td>750-1000     </td> <td>880           </td> <td>0   </td> <td>0.37</td> <td>0.19   </td> <td>0.08 </td> <td>0.36 </td> <td>COMFORTABLE</td>\n",
       "        </tr>\n",
       "        <tr>\n",
       "            <td>1000 and over</td> <td>1125          </td> <td>0   </td> <td>0.29</td> <td>0.16   </td> <td>0.045</td> <td>0.505</td> <td>WELL-TO-DO </td>\n",
       "        </tr>\n",
       "    </tbody>\n",
       "</table>"
      ],
      "text/plain": [
       "CLASS         | ACTUAL AVERAGE | RENT | FOOD | CLOTHES | TAXES | OTHER | STATUS\n",
       "100-200       | 139.1          | 0.19 | 0.43 | 0.28    | 0.001 | 0.099 | POOR\n",
       "200-300       | 249.45         | 0.22 | 0.47 | 0.23    | 0.04  | 0.04  | POOR\n",
       "300-400       | 335.66         | 0.23 | 0.43 | 0.18    | 0.045 | 0.115 | FAIR\n",
       "400-500       | 433.82         | 0.18 | 0.37 | 0.15    | 0.055 | 0.245 | FAIR\n",
       "500-750       | 547            | 0.13 | 0.31 | 0.17    | 0.05  | 0.34  | COMFORTABLE\n",
       "750-1000      | 880            | 0    | 0.37 | 0.19    | 0.08  | 0.36  | COMFORTABLE\n",
       "1000 and over | 1125           | 0    | 0.29 | 0.16    | 0.045 | 0.505 | WELL-TO-DO"
      ]
     },
     "execution_count": 52,
     "metadata": {},
     "output_type": "execute_result"
    }
   ],
   "source": [
    "du_bois"
   ]
  },
  {
   "cell_type": "markdown",
   "id": "3057510a-250c-4b24-a1cf-550636b2121a",
   "metadata": {},
   "source": [
    "**Task:** Isolate just the information about the families with the highest earning income bracket on average, circa 1900."
   ]
  },
  {
   "cell_type": "code",
   "execution_count": 43,
   "id": "0bebf12c-27ab-4d6e-83bd-da810b91bb20",
   "metadata": {},
   "outputs": [
    {
     "data": {
      "text/html": [
       "<table border=\"1\" class=\"dataframe\">\n",
       "    <thead>\n",
       "        <tr>\n",
       "            <th>CLASS</th> <th>ACTUAL AVERAGE</th> <th>RENT</th> <th>FOOD</th> <th>CLOTHES</th> <th>TAXES</th> <th>OTHER</th> <th>STATUS</th>\n",
       "        </tr>\n",
       "    </thead>\n",
       "    <tbody>\n",
       "        <tr>\n",
       "            <td>1000 and over</td> <td>1125          </td> <td>0   </td> <td>0.29</td> <td>0.16   </td> <td>0.045</td> <td>0.505</td> <td>WELL-TO-DO </td>\n",
       "        </tr>\n",
       "        <tr>\n",
       "            <td>750-1000     </td> <td>880           </td> <td>0   </td> <td>0.37</td> <td>0.19   </td> <td>0.08 </td> <td>0.36 </td> <td>COMFORTABLE</td>\n",
       "        </tr>\n",
       "        <tr>\n",
       "            <td>500-750      </td> <td>547           </td> <td>0.13</td> <td>0.31</td> <td>0.17   </td> <td>0.05 </td> <td>0.34 </td> <td>COMFORTABLE</td>\n",
       "        </tr>\n",
       "        <tr>\n",
       "            <td>400-500      </td> <td>433.82        </td> <td>0.18</td> <td>0.37</td> <td>0.15   </td> <td>0.055</td> <td>0.245</td> <td>FAIR       </td>\n",
       "        </tr>\n",
       "        <tr>\n",
       "            <td>300-400      </td> <td>335.66        </td> <td>0.23</td> <td>0.43</td> <td>0.18   </td> <td>0.045</td> <td>0.115</td> <td>FAIR       </td>\n",
       "        </tr>\n",
       "        <tr>\n",
       "            <td>200-300      </td> <td>249.45        </td> <td>0.22</td> <td>0.47</td> <td>0.23   </td> <td>0.04 </td> <td>0.04 </td> <td>POOR       </td>\n",
       "        </tr>\n",
       "        <tr>\n",
       "            <td>100-200      </td> <td>139.1         </td> <td>0.19</td> <td>0.43</td> <td>0.28   </td> <td>0.001</td> <td>0.099</td> <td>POOR       </td>\n",
       "        </tr>\n",
       "    </tbody>\n",
       "</table>"
      ],
      "text/plain": [
       "CLASS         | ACTUAL AVERAGE | RENT | FOOD | CLOTHES | TAXES | OTHER | STATUS\n",
       "1000 and over | 1125           | 0    | 0.29 | 0.16    | 0.045 | 0.505 | WELL-TO-DO\n",
       "750-1000      | 880            | 0    | 0.37 | 0.19    | 0.08  | 0.36  | COMFORTABLE\n",
       "500-750       | 547            | 0.13 | 0.31 | 0.17    | 0.05  | 0.34  | COMFORTABLE\n",
       "400-500       | 433.82         | 0.18 | 0.37 | 0.15    | 0.055 | 0.245 | FAIR\n",
       "300-400       | 335.66         | 0.23 | 0.43 | 0.18    | 0.045 | 0.115 | FAIR\n",
       "200-300       | 249.45         | 0.22 | 0.47 | 0.23    | 0.04  | 0.04  | POOR\n",
       "100-200       | 139.1          | 0.19 | 0.43 | 0.28    | 0.001 | 0.099 | POOR"
      ]
     },
     "execution_count": 43,
     "metadata": {},
     "output_type": "execute_result"
    }
   ],
   "source": [
    "du_bois.sort('ACTUAL AVERAGE', descending=True)"
   ]
  },
  {
   "cell_type": "code",
   "execution_count": 44,
   "id": "7d0ff2c5-569f-4b39-97eb-effafca0357e",
   "metadata": {},
   "outputs": [
    {
     "data": {
      "text/html": [
       "<table border=\"1\" class=\"dataframe\">\n",
       "    <thead>\n",
       "        <tr>\n",
       "            <th>CLASS</th> <th>ACTUAL AVERAGE</th> <th>RENT</th> <th>FOOD</th> <th>CLOTHES</th> <th>TAXES</th> <th>OTHER</th> <th>STATUS</th>\n",
       "        </tr>\n",
       "    </thead>\n",
       "    <tbody>\n",
       "        <tr>\n",
       "            <td>1000 and over</td> <td>1125          </td> <td>0   </td> <td>0.29</td> <td>0.16   </td> <td>0.045</td> <td>0.505</td> <td>WELL-TO-DO</td>\n",
       "        </tr>\n",
       "    </tbody>\n",
       "</table>"
      ],
      "text/plain": [
       "CLASS         | ACTUAL AVERAGE | RENT | FOOD | CLOTHES | TAXES | OTHER | STATUS\n",
       "1000 and over | 1125           | 0    | 0.29 | 0.16    | 0.045 | 0.505 | WELL-TO-DO"
      ]
     },
     "execution_count": 44,
     "metadata": {},
     "output_type": "execute_result"
    }
   ],
   "source": [
    "du_bois.sort('ACTUAL AVERAGE', descending=True).take(0)"
   ]
  },
  {
   "cell_type": "markdown",
   "id": "58e1c515-74ca-4deb-9619-014be48c3659",
   "metadata": {},
   "source": [
    "**Task:** Estimate the amount of money each that each income class of Black Americans spent on food, circa 1900."
   ]
  },
  {
   "cell_type": "code",
   "execution_count": 45,
   "id": "f9af38ec-2cd0-4703-bafb-15fab5f3e1be",
   "metadata": {},
   "outputs": [],
   "source": [
    "food_dollars = du_bois.column('ACTUAL AVERAGE') * du_bois.column('FOOD')"
   ]
  },
  {
   "cell_type": "code",
   "execution_count": 46,
   "id": "3a873727-6459-4a51-aef3-e65225819ecc",
   "metadata": {},
   "outputs": [
    {
     "data": {
      "text/html": [
       "<table border=\"1\" class=\"dataframe\">\n",
       "    <thead>\n",
       "        <tr>\n",
       "            <th>CLASS</th> <th>ACTUAL AVERAGE</th> <th>RENT</th> <th>FOOD</th> <th>CLOTHES</th> <th>TAXES</th> <th>OTHER</th> <th>STATUS</th> <th>Food $</th>\n",
       "        </tr>\n",
       "    </thead>\n",
       "    <tbody>\n",
       "        <tr>\n",
       "            <td>100-200      </td> <td>139.1         </td> <td>0.19</td> <td>0.43</td> <td>0.28   </td> <td>0.001</td> <td>0.099</td> <td>POOR       </td> <td>59.813 </td>\n",
       "        </tr>\n",
       "        <tr>\n",
       "            <td>200-300      </td> <td>249.45        </td> <td>0.22</td> <td>0.47</td> <td>0.23   </td> <td>0.04 </td> <td>0.04 </td> <td>POOR       </td> <td>117.241</td>\n",
       "        </tr>\n",
       "        <tr>\n",
       "            <td>300-400      </td> <td>335.66        </td> <td>0.23</td> <td>0.43</td> <td>0.18   </td> <td>0.045</td> <td>0.115</td> <td>FAIR       </td> <td>144.334</td>\n",
       "        </tr>\n",
       "        <tr>\n",
       "            <td>400-500      </td> <td>433.82        </td> <td>0.18</td> <td>0.37</td> <td>0.15   </td> <td>0.055</td> <td>0.245</td> <td>FAIR       </td> <td>160.513</td>\n",
       "        </tr>\n",
       "        <tr>\n",
       "            <td>500-750      </td> <td>547           </td> <td>0.13</td> <td>0.31</td> <td>0.17   </td> <td>0.05 </td> <td>0.34 </td> <td>COMFORTABLE</td> <td>169.57 </td>\n",
       "        </tr>\n",
       "        <tr>\n",
       "            <td>750-1000     </td> <td>880           </td> <td>0   </td> <td>0.37</td> <td>0.19   </td> <td>0.08 </td> <td>0.36 </td> <td>COMFORTABLE</td> <td>325.6  </td>\n",
       "        </tr>\n",
       "        <tr>\n",
       "            <td>1000 and over</td> <td>1125          </td> <td>0   </td> <td>0.29</td> <td>0.16   </td> <td>0.045</td> <td>0.505</td> <td>WELL-TO-DO </td> <td>326.25 </td>\n",
       "        </tr>\n",
       "    </tbody>\n",
       "</table>"
      ],
      "text/plain": [
       "CLASS         | ACTUAL AVERAGE | RENT | FOOD | CLOTHES | TAXES | OTHER | STATUS      | Food $\n",
       "100-200       | 139.1          | 0.19 | 0.43 | 0.28    | 0.001 | 0.099 | POOR        | 59.813\n",
       "200-300       | 249.45         | 0.22 | 0.47 | 0.23    | 0.04  | 0.04  | POOR        | 117.241\n",
       "300-400       | 335.66         | 0.23 | 0.43 | 0.18    | 0.045 | 0.115 | FAIR        | 144.334\n",
       "400-500       | 433.82         | 0.18 | 0.37 | 0.15    | 0.055 | 0.245 | FAIR        | 160.513\n",
       "500-750       | 547            | 0.13 | 0.31 | 0.17    | 0.05  | 0.34  | COMFORTABLE | 169.57\n",
       "750-1000      | 880            | 0    | 0.37 | 0.19    | 0.08  | 0.36  | COMFORTABLE | 325.6\n",
       "1000 and over | 1125           | 0    | 0.29 | 0.16    | 0.045 | 0.505 | WELL-TO-DO  | 326.25"
      ]
     },
     "execution_count": 46,
     "metadata": {},
     "output_type": "execute_result"
    }
   ],
   "source": [
    "du_bois = du_bois.with_columns('Food $', food_dollars)\n",
    "du_bois"
   ]
  }
 ],
 "metadata": {
  "kernelspec": {
   "display_name": "Python 3 (ipykernel)",
   "language": "python",
   "name": "python3"
  },
  "language_info": {
   "codemirror_mode": {
    "name": "ipython",
    "version": 3
   },
   "file_extension": ".py",
   "mimetype": "text/x-python",
   "name": "python",
   "nbconvert_exporter": "python",
   "pygments_lexer": "ipython3",
   "version": "3.12.4"
  }
 },
 "nbformat": 4,
 "nbformat_minor": 5
}
