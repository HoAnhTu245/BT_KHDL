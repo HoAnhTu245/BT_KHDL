{
 "cells": [
  {
   "cell_type": "code",
   "execution_count": 1,
   "id": "d9553382-f8c7-4a61-bd9c-8fe287983e8e",
   "metadata": {},
   "outputs": [],
   "source": [
    "from datascience import *\n",
    "import numpy as np\n",
    "\n",
    "%matplotlib inline\n",
    "import matplotlib.pyplot as plots\n",
    "plots.style.use('fivethirtyeight')\n",
    "import warnings\n",
    "warnings.simplefilter(action='ignore',category=np.VisibleDeprecationWarning)"
   ]
  },
  {
   "cell_type": "markdown",
   "id": "11607002-6181-4a55-bd25-9adb8e9d7a6d",
   "metadata": {},
   "source": [
    "## Review"
   ]
  },
  {
   "cell_type": "markdown",
   "id": "3135ca0b-40d9-492d-9403-a96ff5c62c83",
   "metadata": {},
   "source": [
    "From your homework: \n",
    "\n",
    "> *Below we load ... 200,000 weekday Uber rides in the ...  Boston, Massachusetts metropolitan area from the [Uber Movement](https://www.uber.com/newsroom/introducing-uber-movement-2/) project. The `sourceid` and `dstid` columns contain codes corresponding to start and end locations of each ride. The `hod` column contains codes corresponding to the hour of the day the ride took place. The `ride time` column contains the length of the ride in minutes.*"
   ]
  },
  {
   "cell_type": "code",
   "execution_count": 10,
   "id": "370104dc-a728-4e8f-afd1-fc3f7e293c6c",
   "metadata": {},
   "outputs": [
    {
     "data": {
      "text/html": [
       "<table border=\"1\" class=\"dataframe\">\n",
       "    <thead>\n",
       "        <tr>\n",
       "            <th>sourceid</th> <th>dstid</th> <th>hod</th> <th>ride time</th>\n",
       "        </tr>\n",
       "    </thead>\n",
       "    <tbody>\n",
       "        <tr>\n",
       "            <td>584     </td> <td>33   </td> <td>7   </td> <td>11.866   </td>\n",
       "        </tr>\n",
       "        <tr>\n",
       "            <td>1013    </td> <td>1116 </td> <td>13  </td> <td>17.7993  </td>\n",
       "        </tr>\n",
       "        <tr>\n",
       "            <td>884     </td> <td>1190 </td> <td>22  </td> <td>19.3488  </td>\n",
       "        </tr>\n",
       "        <tr>\n",
       "            <td>211     </td> <td>364  </td> <td>1   </td> <td>1.7235   </td>\n",
       "        </tr>\n",
       "        <tr>\n",
       "            <td>218     </td> <td>1189 </td> <td>7   </td> <td>42.5588  </td>\n",
       "        </tr>\n",
       "        <tr>\n",
       "            <td>1048    </td> <td>461  </td> <td>7   </td> <td>26.4212  </td>\n",
       "        </tr>\n",
       "    </tbody>\n",
       "</table>\n",
       "<p>... (199994 rows omitted)</p>"
      ],
      "text/plain": [
       "<IPython.core.display.HTML object>"
      ]
     },
     "metadata": {},
     "output_type": "display_data"
    }
   ],
   "source": [
    "boston = Table.read_table(\"boston.csv\")\n",
    "boston.show(6)"
   ]
  },
  {
   "cell_type": "markdown",
   "id": "4ee2d2bb-c78b-45f9-bb48-eda0beec647c",
   "metadata": {},
   "source": [
    "**Discussion Question:** I would like to add a column to this dataset giving the ride time in seconds. \n",
    "\n",
    "What is a method that makes the most sense:\n",
    "\n",
    "- If I plan to work with only the `boston` dataset?\n",
    "- If I plan to work with multiple Uber Movement datasets, such as the `manila` dataset you saw in your homework?"
   ]
  },
  {
   "cell_type": "markdown",
   "id": "f1d1e391-69ee-43e2-b20e-eee25c926811",
   "metadata": {},
   "source": [
    "## New material"
   ]
  },
  {
   "cell_type": "markdown",
   "id": "2ea5711f-040a-46ca-9905-c57df582aae8",
   "metadata": {},
   "source": [
    "### One-column groups"
   ]
  },
  {
   "cell_type": "code",
   "execution_count": 120,
   "id": "8fc1ea34-1c38-41c2-8096-ab1d612f3eef",
   "metadata": {},
   "outputs": [],
   "source": [
    "cones = Table.read_table('cones.csv')\n",
    "cones_without_color = cones.drop('Color') "
   ]
  },
  {
   "cell_type": "code",
   "execution_count": 16,
   "id": "6239ad87-942e-482a-92be-c393dfbe241f",
   "metadata": {},
   "outputs": [
    {
     "data": {
      "text/html": [
       "<table border=\"1\" class=\"dataframe\">\n",
       "    <thead>\n",
       "        <tr>\n",
       "            <th>Flavor</th> <th>Color</th> <th>Price</th>\n",
       "        </tr>\n",
       "    </thead>\n",
       "    <tbody>\n",
       "        <tr>\n",
       "            <td>strawberry</td> <td>pink       </td> <td>3.55 </td>\n",
       "        </tr>\n",
       "        <tr>\n",
       "            <td>chocolate </td> <td>light brown</td> <td>4.75 </td>\n",
       "        </tr>\n",
       "        <tr>\n",
       "            <td>chocolate </td> <td>dark brown </td> <td>5.25 </td>\n",
       "        </tr>\n",
       "        <tr>\n",
       "            <td>strawberry</td> <td>pink       </td> <td>5.25 </td>\n",
       "        </tr>\n",
       "        <tr>\n",
       "            <td>chocolate </td> <td>dark brown </td> <td>5.25 </td>\n",
       "        </tr>\n",
       "        <tr>\n",
       "            <td>bubblegum </td> <td>pink       </td> <td>4.75 </td>\n",
       "        </tr>\n",
       "    </tbody>\n",
       "</table>"
      ],
      "text/plain": [
       "Flavor     | Color       | Price\n",
       "strawberry | pink        | 3.55\n",
       "chocolate  | light brown | 4.75\n",
       "chocolate  | dark brown  | 5.25\n",
       "strawberry | pink        | 5.25\n",
       "chocolate  | dark brown  | 5.25\n",
       "bubblegum  | pink        | 4.75"
      ]
     },
     "execution_count": 16,
     "metadata": {},
     "output_type": "execute_result"
    }
   ],
   "source": [
    "cones"
   ]
  },
  {
   "cell_type": "code",
   "execution_count": 119,
   "id": "410e4ab2-99d3-4e96-b2bd-b510d6ebeea7",
   "metadata": {},
   "outputs": [
    {
     "data": {
      "text/html": [
       "<table border=\"1\" class=\"dataframe\">\n",
       "    <thead>\n",
       "        <tr>\n",
       "            <th>Flavor</th> <th>count</th>\n",
       "        </tr>\n",
       "    </thead>\n",
       "    <tbody>\n",
       "        <tr>\n",
       "            <td>bubblegum </td> <td>1    </td>\n",
       "        </tr>\n",
       "        <tr>\n",
       "            <td>chocolate </td> <td>3    </td>\n",
       "        </tr>\n",
       "        <tr>\n",
       "            <td>strawberry</td> <td>2    </td>\n",
       "        </tr>\n",
       "    </tbody>\n",
       "</table>"
      ],
      "text/plain": [
       "Flavor     | count\n",
       "bubblegum  | 1\n",
       "chocolate  | 3\n",
       "strawberry | 2"
      ]
     },
     "execution_count": 119,
     "metadata": {},
     "output_type": "execute_result"
    }
   ],
   "source": [
    "cones_without_color.group('Flavor')"
   ]
  },
  {
   "cell_type": "code",
   "execution_count": 118,
   "id": "34b8583d-5506-41af-b736-81560bc33cce",
   "metadata": {},
   "outputs": [
    {
     "data": {
      "text/html": [
       "<table border=\"1\" class=\"dataframe\">\n",
       "    <thead>\n",
       "        <tr>\n",
       "            <th>Flavor</th> <th>Price min</th>\n",
       "        </tr>\n",
       "    </thead>\n",
       "    <tbody>\n",
       "        <tr>\n",
       "            <td>bubblegum </td> <td>4.75     </td>\n",
       "        </tr>\n",
       "        <tr>\n",
       "            <td>chocolate </td> <td>4.75     </td>\n",
       "        </tr>\n",
       "        <tr>\n",
       "            <td>strawberry</td> <td>3.55     </td>\n",
       "        </tr>\n",
       "    </tbody>\n",
       "</table>"
      ],
      "text/plain": [
       "Flavor     | Price min\n",
       "bubblegum  | 4.75\n",
       "chocolate  | 4.75\n",
       "strawberry | 3.55"
      ]
     },
     "execution_count": 118,
     "metadata": {},
     "output_type": "execute_result"
    }
   ],
   "source": [
    "cones_without_color.group('Flavor', min)"
   ]
  },
  {
   "cell_type": "markdown",
   "id": "1a5ec44e-c578-44ed-af5a-1a161212fc9d",
   "metadata": {},
   "source": [
    "### Two-column groups"
   ]
  },
  {
   "cell_type": "code",
   "execution_count": 117,
   "id": "c37d2afa-8717-4a7f-859a-1a10037e35cc",
   "metadata": {},
   "outputs": [
    {
     "data": {
      "text/html": [
       "<table border=\"1\" class=\"dataframe\">\n",
       "    <thead>\n",
       "        <tr>\n",
       "            <th>Flavor</th> <th>Color</th> <th>count</th>\n",
       "        </tr>\n",
       "    </thead>\n",
       "    <tbody>\n",
       "        <tr>\n",
       "            <td>bubblegum </td> <td>pink       </td> <td>1    </td>\n",
       "        </tr>\n",
       "        <tr>\n",
       "            <td>chocolate </td> <td>dark brown </td> <td>2    </td>\n",
       "        </tr>\n",
       "        <tr>\n",
       "            <td>chocolate </td> <td>light brown</td> <td>1    </td>\n",
       "        </tr>\n",
       "        <tr>\n",
       "            <td>strawberry</td> <td>pink       </td> <td>2    </td>\n",
       "        </tr>\n",
       "    </tbody>\n",
       "</table>"
      ],
      "text/plain": [
       "Flavor     | Color       | count\n",
       "bubblegum  | pink        | 1\n",
       "chocolate  | dark brown  | 2\n",
       "chocolate  | light brown | 1\n",
       "strawberry | pink        | 2"
      ]
     },
     "execution_count": 117,
     "metadata": {},
     "output_type": "execute_result"
    }
   ],
   "source": [
    "cones.group(['Flavor','Color'])"
   ]
  },
  {
   "cell_type": "code",
   "execution_count": 116,
   "id": "046222cf-8f8d-41e5-af30-e3840e57b98c",
   "metadata": {},
   "outputs": [
    {
     "data": {
      "text/html": [
       "<table border=\"1\" class=\"dataframe\">\n",
       "    <thead>\n",
       "        <tr>\n",
       "            <th>Flavor</th> <th>Color</th> <th>Price max</th>\n",
       "        </tr>\n",
       "    </thead>\n",
       "    <tbody>\n",
       "        <tr>\n",
       "            <td>bubblegum </td> <td>pink       </td> <td>4.75     </td>\n",
       "        </tr>\n",
       "        <tr>\n",
       "            <td>chocolate </td> <td>dark brown </td> <td>5.25     </td>\n",
       "        </tr>\n",
       "        <tr>\n",
       "            <td>chocolate </td> <td>light brown</td> <td>4.75     </td>\n",
       "        </tr>\n",
       "        <tr>\n",
       "            <td>strawberry</td> <td>pink       </td> <td>5.25     </td>\n",
       "        </tr>\n",
       "    </tbody>\n",
       "</table>"
      ],
      "text/plain": [
       "Flavor     | Color       | Price max\n",
       "bubblegum  | pink        | 4.75\n",
       "chocolate  | dark brown  | 5.25\n",
       "chocolate  | light brown | 4.75\n",
       "strawberry | pink        | 5.25"
      ]
     },
     "execution_count": 116,
     "metadata": {},
     "output_type": "execute_result"
    }
   ],
   "source": [
    "cones.group(['Flavor','Color'], max)"
   ]
  },
  {
   "cell_type": "markdown",
   "id": "ab9ca69a-82f5-4bed-8d28-628cacb08e9e",
   "metadata": {},
   "source": [
    "______"
   ]
  },
  {
   "cell_type": "markdown",
   "id": "8e4c47a4-3575-4bb1-a232-e6996f11e15a",
   "metadata": {},
   "source": [
    "### Advanced grouping"
   ]
  },
  {
   "cell_type": "markdown",
   "id": "e4a57fd2-0a06-42ac-a598-409bbd7ecdf9",
   "metadata": {},
   "source": [
    "#### `welcome_survey` dataset"
   ]
  },
  {
   "cell_type": "code",
   "execution_count": 115,
   "id": "15a8558c-7584-4e36-81fd-3c0844f43f0e",
   "metadata": {},
   "outputs": [
    {
     "data": {
      "text/html": [
       "<table border=\"1\" class=\"dataframe\">\n",
       "    <thead>\n",
       "        <tr>\n",
       "            <th>Year</th> <th>Extraversion</th> <th>Number of textees</th> <th>Hours of sleep</th> <th>Handedness</th> <th>Sleep position</th> <th>Pets</th> <th>TV</th> <th>Piercings</th>\n",
       "        </tr>\n",
       "    </thead>\n",
       "    <tbody>\n",
       "        <tr>\n",
       "            <td>Second Year</td> <td>7           </td> <td>5                </td> <td>7             </td> <td>Right-handed</td> <td>On your back      </td> <td>a little brother</td> <td>Black Mirror </td> <td>3        </td>\n",
       "        </tr>\n",
       "        <tr>\n",
       "            <td>Second Year</td> <td>3           </td> <td>6                </td> <td>7             </td> <td>Right-handed</td> <td>On your right side</td> <td>Bird            </td> <td>nan          </td> <td>0        </td>\n",
       "        </tr>\n",
       "        <tr>\n",
       "            <td>Second Year</td> <td>3           </td> <td>8                </td> <td>6             </td> <td>Right-handed</td> <td>On your right side</td> <td>Bird            </td> <td>The Bear     </td> <td>0        </td>\n",
       "        </tr>\n",
       "        <tr>\n",
       "            <td>First Year </td> <td>4           </td> <td>4                </td> <td>7             </td> <td>Right-handed</td> <td>On your left side </td> <td>Bird            </td> <td>Gilmore Girls</td> <td>1        </td>\n",
       "        </tr>\n",
       "        <tr>\n",
       "            <td>Second Year</td> <td>3           </td> <td>3                </td> <td>7             </td> <td>Right-handed</td> <td>On your stomach   </td> <td>Bird            </td> <td>nan          </td> <td>2        </td>\n",
       "        </tr>\n",
       "    </tbody>\n",
       "</table>\n",
       "<p>... (925 rows omitted)</p>"
      ],
      "text/plain": [
       "<IPython.core.display.HTML object>"
      ]
     },
     "metadata": {},
     "output_type": "display_data"
    }
   ],
   "source": [
    "survey = Table.read_table('welcome_survey_sp24.csv')\n",
    "underclassmen = make_array('First Year','Second Year', 'Third Year','Fourth Year')\n",
    "survey = survey.where('Year', are.contained_in(underclassmen))\n",
    "survey.show(5)"
   ]
  },
  {
   "cell_type": "markdown",
   "id": "f06a4789-df0e-42bd-b475-087adda69ac1",
   "metadata": {},
   "source": [
    "**Discussion Question 2**: How many rows and how many columns will the table be that is produced by the following code?"
   ]
  },
  {
   "cell_type": "code",
   "execution_count": 48,
   "id": "0c0b950c-e21f-45c6-9391-49b30aeccf87",
   "metadata": {},
   "outputs": [
    {
     "data": {
      "text/html": [
       "<table border=\"1\" class=\"dataframe\">\n",
       "    <thead>\n",
       "        <tr>\n",
       "            <th>Year</th> <th>count</th>\n",
       "        </tr>\n",
       "    </thead>\n",
       "    <tbody>\n",
       "        <tr>\n",
       "            <td>First Year </td> <td>470  </td>\n",
       "        </tr>\n",
       "        <tr>\n",
       "            <td>Fourth Year</td> <td>49   </td>\n",
       "        </tr>\n",
       "        <tr>\n",
       "            <td>Second Year</td> <td>220  </td>\n",
       "        </tr>\n",
       "        <tr>\n",
       "            <td>Third Year </td> <td>191  </td>\n",
       "        </tr>\n",
       "    </tbody>\n",
       "</table>"
      ],
      "text/plain": [
       "Year        | count\n",
       "First Year  | 470\n",
       "Fourth Year | 49\n",
       "Second Year | 220\n",
       "Third Year  | 191"
      ]
     },
     "execution_count": 48,
     "metadata": {},
     "output_type": "execute_result"
    }
   ],
   "source": [
    "survey.group('Year')"
   ]
  },
  {
   "cell_type": "markdown",
   "id": "86fc04b5-c957-42d5-9de3-a1de30e1c843",
   "metadata": {},
   "source": [
    "**Discussion Question 3**: How many rows and how many columns will the table be that is produced by the following code?"
   ]
  },
  {
   "cell_type": "code",
   "execution_count": 49,
   "id": "1a8b8057-b603-4197-9f18-6356b9cfe661",
   "metadata": {},
   "outputs": [
    {
     "data": {
      "text/html": [
       "<table border=\"1\" class=\"dataframe\">\n",
       "    <thead>\n",
       "        <tr>\n",
       "            <th>Year</th> <th>Extraversion average</th> <th>Number of textees average</th> <th>Hours of sleep average</th> <th>Handedness average</th> <th>Sleep position average</th> <th>Pets average</th> <th>TV average</th> <th>Piercings average</th>\n",
       "        </tr>\n",
       "    </thead>\n",
       "    <tbody>\n",
       "        <tr>\n",
       "            <td>First Year </td> <td>5.69574             </td> <td>7.58723                  </td> <td>7.12872               </td> <td>                  </td> <td>                      </td> <td>            </td> <td>          </td> <td>1.68936          </td>\n",
       "        </tr>\n",
       "        <tr>\n",
       "            <td>Fourth Year</td> <td>5.40816             </td> <td>6.59184                  </td> <td>7.09184               </td> <td>                  </td> <td>                      </td> <td>            </td> <td>          </td> <td>2.08163          </td>\n",
       "        </tr>\n",
       "        <tr>\n",
       "            <td>Second Year</td> <td>5.49545             </td> <td>6.59545                  </td> <td>6.91591               </td> <td>                  </td> <td>                      </td> <td>            </td> <td>          </td> <td>2.46818          </td>\n",
       "        </tr>\n",
       "        <tr>\n",
       "            <td>Third Year </td> <td>5.12565             </td> <td>5.48691                  </td> <td>7.02094               </td> <td>                  </td> <td>                      </td> <td>            </td> <td>          </td> <td>3.08901          </td>\n",
       "        </tr>\n",
       "    </tbody>\n",
       "</table>"
      ],
      "text/plain": [
       "Year        | Extraversion average | Number of textees average | Hours of sleep average | Handedness average | Sleep position average | Pets average | TV average | Piercings average\n",
       "First Year  | 5.69574              | 7.58723                   | 7.12872                |                    |                        |              |            | 1.68936\n",
       "Fourth Year | 5.40816              | 6.59184                   | 7.09184                |                    |                        |              |            | 2.08163\n",
       "Second Year | 5.49545              | 6.59545                   | 6.91591                |                    |                        |              |            | 2.46818\n",
       "Third Year  | 5.12565              | 5.48691                   | 7.02094                |                    |                        |              |            | 3.08901"
      ]
     },
     "execution_count": 49,
     "metadata": {},
     "output_type": "execute_result"
    }
   ],
   "source": [
    "survey.group('Year', np.average)"
   ]
  },
  {
   "cell_type": "code",
   "execution_count": 63,
   "id": "05affe08-254e-44a9-8418-3cd87192b035",
   "metadata": {},
   "outputs": [
    {
     "data": {
      "text/html": [
       "<table border=\"1\" class=\"dataframe\">\n",
       "    <thead>\n",
       "        <tr>\n",
       "            <th>Year</th> <th>Extraversion average</th> <th>Number of textees average</th> <th>Hours of sleep average</th> <th>Piercings average</th>\n",
       "        </tr>\n",
       "    </thead>\n",
       "    <tbody>\n",
       "        <tr>\n",
       "            <td>First Year </td> <td>5.69574             </td> <td>7.58723                  </td> <td>7.12872               </td> <td>1.68936          </td>\n",
       "        </tr>\n",
       "        <tr>\n",
       "            <td>Fourth Year</td> <td>5.40816             </td> <td>6.59184                  </td> <td>7.09184               </td> <td>2.08163          </td>\n",
       "        </tr>\n",
       "        <tr>\n",
       "            <td>Second Year</td> <td>5.49545             </td> <td>6.59545                  </td> <td>6.91591               </td> <td>2.46818          </td>\n",
       "        </tr>\n",
       "        <tr>\n",
       "            <td>Third Year </td> <td>5.12565             </td> <td>5.48691                  </td> <td>7.02094               </td> <td>3.08901          </td>\n",
       "        </tr>\n",
       "    </tbody>\n",
       "</table>"
      ],
      "text/plain": [
       "Year        | Extraversion average | Number of textees average | Hours of sleep average | Piercings average\n",
       "First Year  | 5.69574              | 7.58723                   | 7.12872                | 1.68936\n",
       "Fourth Year | 5.40816              | 6.59184                   | 7.09184                | 2.08163\n",
       "Second Year | 5.49545              | 6.59545                   | 6.91591                | 2.46818\n",
       "Third Year  | 5.12565              | 5.48691                   | 7.02094                | 3.08901"
      ]
     },
     "execution_count": 63,
     "metadata": {},
     "output_type": "execute_result"
    }
   ],
   "source": [
    "survey.drop('Handedness', 'Sleep position', 'Pets', 'TV').group('Year', np.average)"
   ]
  },
  {
   "cell_type": "markdown",
   "id": "d2ecc0c7-1e10-47fc-9498-0d10185a8cc0",
   "metadata": {},
   "source": [
    "### `nba_salaries` dataset"
   ]
  },
  {
   "cell_type": "code",
   "execution_count": 61,
   "id": "36941151-b104-49d7-be5f-e13071332041",
   "metadata": {},
   "outputs": [
    {
     "data": {
      "text/html": [
       "<table border=\"1\" class=\"dataframe\">\n",
       "    <thead>\n",
       "        <tr>\n",
       "            <th>rank</th> <th>name</th> <th>position</th> <th>team</th> <th>salary</th> <th>season</th>\n",
       "        </tr>\n",
       "    </thead>\n",
       "    <tbody>\n",
       "        <tr>\n",
       "            <td>1   </td> <td>Shaquille O'Neal</td> <td>C       </td> <td>Los Angeles Lakers    </td> <td>17142000</td> <td>2000  </td>\n",
       "        </tr>\n",
       "        <tr>\n",
       "            <td>2   </td> <td>Kevin Garnett   </td> <td>PF      </td> <td>Minnesota Timberwolves</td> <td>16806000</td> <td>2000  </td>\n",
       "        </tr>\n",
       "        <tr>\n",
       "            <td>3   </td> <td>Alonzo Mourning </td> <td>C       </td> <td>Miami Heat            </td> <td>15004000</td> <td>2000  </td>\n",
       "        </tr>\n",
       "        <tr>\n",
       "            <td>4   </td> <td>Juwan Howard    </td> <td>PF      </td> <td>Washington Wizards    </td> <td>15000000</td> <td>2000  </td>\n",
       "        </tr>\n",
       "        <tr>\n",
       "            <td>5   </td> <td>Scottie Pippen  </td> <td>SF      </td> <td>Portland Trail Blazers</td> <td>14795000</td> <td>2000  </td>\n",
       "        </tr>\n",
       "        <tr>\n",
       "            <td>6   </td> <td>Karl Malone     </td> <td>PF      </td> <td>Utah Jazz             </td> <td>14000000</td> <td>2000  </td>\n",
       "        </tr>\n",
       "    </tbody>\n",
       "</table>\n",
       "<p>... (9450 rows omitted)</p>"
      ],
      "text/plain": [
       "<IPython.core.display.HTML object>"
      ]
     },
     "metadata": {},
     "output_type": "display_data"
    }
   ],
   "source": [
    "nba = Table.read_table(\"nba_salaries.csv\")\n",
    "nba.show(6)"
   ]
  },
  {
   "cell_type": "markdown",
   "id": "b6609347-a059-48fe-8bf4-5bd07dddd376",
   "metadata": {},
   "source": [
    "#### **Task**: Find the five teams paying the highest average salary (in millions) in 2010 and in 2010.\n",
    "- Your results should be in the form of a table with 5 rows and 2 columns:\n",
    "    - One column should have the team name\n",
    "    - The other column should have the salary for that team, in millions.\n",
    "- You should only have to use `Table.select()` or `Table.drop()` *once*. "
   ]
  },
  {
   "cell_type": "code",
   "execution_count": 95,
   "id": "d17d7aca-8512-4090-861d-7bb1974c70aa",
   "metadata": {},
   "outputs": [],
   "source": [
    "def average_in_millions(x):\n",
    "    average = np.average(x)\n",
    "    return average/1e6"
   ]
  },
  {
   "cell_type": "code",
   "execution_count": 98,
   "id": "b4e150c6-1cdf-45d6-bf0b-131fecc86b09",
   "metadata": {},
   "outputs": [],
   "source": [
    "salary_table_2020 = nba.where('season', 2020).select('team', \n",
    "                                 'salary').group('team', average_in_millions)"
   ]
  },
  {
   "cell_type": "code",
   "execution_count": 99,
   "id": "5285cac6-4e2a-4859-825e-5e8eb4ae9cfa",
   "metadata": {},
   "outputs": [
    {
     "data": {
      "text/html": [
       "<table border=\"1\" class=\"dataframe\">\n",
       "    <thead>\n",
       "        <tr>\n",
       "            <th>team</th> <th>salary average_in_millions</th>\n",
       "        </tr>\n",
       "    </thead>\n",
       "    <tbody>\n",
       "        <tr>\n",
       "            <td>Denver Nuggets        </td> <td>9.75706                   </td>\n",
       "        </tr>\n",
       "        <tr>\n",
       "            <td>Minnesota Timberwolves</td> <td>9.20566                   </td>\n",
       "        </tr>\n",
       "        <tr>\n",
       "            <td>Portland Trail Blazers</td> <td>8.69554                   </td>\n",
       "        </tr>\n",
       "        <tr>\n",
       "            <td>Dallas Mavericks      </td> <td>8.42969                   </td>\n",
       "        </tr>\n",
       "        <tr>\n",
       "            <td>Orlando Magic         </td> <td>8.38645                   </td>\n",
       "        </tr>\n",
       "    </tbody>\n",
       "</table>\n",
       "<p>... (25 rows omitted)</p>"
      ],
      "text/plain": [
       "<IPython.core.display.HTML object>"
      ]
     },
     "metadata": {},
     "output_type": "display_data"
    }
   ],
   "source": [
    "salary_table_2020.sort(1, descending=True).show(5)"
   ]
  },
  {
   "cell_type": "markdown",
   "id": "b456dacc-d07b-4569-b47c-24088041b1d8",
   "metadata": {},
   "source": [
    "#### **Challenge Task:** Find the $n$ teams paying the highest average salary (in millions) in season $y$.\n",
    "- In other words, write code that will produce the table you made above, but for any given $n$ and $y$."
   ]
  },
  {
   "cell_type": "code",
   "execution_count": 107,
   "id": "529d6942-6fb6-42b9-bec9-04b16b585d3a",
   "metadata": {},
   "outputs": [],
   "source": [
    "def highest_paying_teams(y, n):\n",
    "    salary_table = nba.where('season', y).select('team', \n",
    "                                 'salary').group('team', average_in_millions)\n",
    "    return salary_table.sort(1, descending=True).show(n)"
   ]
  },
  {
   "cell_type": "code",
   "execution_count": 112,
   "id": "2b22e786-f158-4c49-adf4-3b170767b991",
   "metadata": {},
   "outputs": [
    {
     "data": {
      "text/html": [
       "<table border=\"1\" class=\"dataframe\">\n",
       "    <thead>\n",
       "        <tr>\n",
       "            <th>team</th> <th>salary average_in_millions</th>\n",
       "        </tr>\n",
       "    </thead>\n",
       "    <tbody>\n",
       "        <tr>\n",
       "            <td>Cleveland Cavaliers  </td> <td>6.9503                    </td>\n",
       "        </tr>\n",
       "        <tr>\n",
       "            <td>Oklahoma City Thunder</td> <td>5.70945                   </td>\n",
       "        </tr>\n",
       "        <tr>\n",
       "            <td>Golden State Warriors</td> <td>5.61352                   </td>\n",
       "        </tr>\n",
       "    </tbody>\n",
       "</table>\n",
       "<p>... (27 rows omitted)</p>"
      ],
      "text/plain": [
       "<IPython.core.display.HTML object>"
      ]
     },
     "metadata": {},
     "output_type": "display_data"
    }
   ],
   "source": [
    "highest_paying_teams(2016,3)"
   ]
  }
 ],
 "metadata": {
  "kernelspec": {
   "display_name": "Python 3 (ipykernel)",
   "language": "python",
   "name": "python3"
  },
  "language_info": {
   "codemirror_mode": {
    "name": "ipython",
    "version": 3
   },
   "file_extension": ".py",
   "mimetype": "text/x-python",
   "name": "python",
   "nbconvert_exporter": "python",
   "pygments_lexer": "ipython3",
   "version": "3.12.4"
  }
 },
 "nbformat": 4,
 "nbformat_minor": 5
}
