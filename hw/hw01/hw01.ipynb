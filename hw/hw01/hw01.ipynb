{
  "cells": [
    {
      "cell_type": "code",
      "execution_count": null,
      "metadata": {
        "deletable": false,
        "editable": false,
        "id": "0pOYdRvQuAd9"
      },
      "outputs": [],
      "source": [
        "# Initialize Otter\n",
        "import otter\n",
        "grader = otter.Notebook(\"hw01.ipynb\")"
      ],
      "id": "0pOYdRvQuAd9"
    },
    {
      "cell_type": "markdown",
      "metadata": {
        "id": "BCwk3a6wuAd-"
      },
      "source": [
        "<img src=\"https://github.com/HoAnhTu245/BT_KHDL/blob/main/hw/hw01/data8logo.png?raw=1\" alt=\"Data 8 Logo\" style=\"width: 15%; float: right; padding: 1%; margin-right: 2%;\"/>\n",
        "\n",
        "# Homework 1: Causality and Expressions\n",
        "\n",
        "Please complete this notebook by filling in the cells provided. Before you begin, run the previous cell to load the provided tests.\n",
        "\n",
        "**Recommended Readings:**\n",
        "\n",
        "- [What is Data Sciencen?](http://www.inferentialthinking.com/chapters/01/what-is-data-science.html)\n",
        "- [Causality and Experiments](http://www.inferentialthinking.com/chapters/02/causality-and-experiments.html)\n",
        "- [Programming in Python](http://www.inferentialthinking.com/chapters/03/programming-in-python.html)\n",
        "\n",
        "For all problems that you must write explanations and sentences for, you **must** provide your answer in the designated space. Moreover, throughout this homework and all future ones, please be sure to not re-assign variables throughout the notebook! For example, if you use `max_temperature` in your answer to one question, do not reassign it later on. Otherwise, you will fail tests that you thought you were passing previously!\n",
        "\n",
        "**Deadline:**\n",
        "\n",
        "This assignment is **due Wednesday, 9/4 at 5:00pm PT**. Submissions after this time will be accepted for 24 hours and will incur a 20% penalty. Any submissions later than Thursday, 9/5 at 5:00pm PT will not be accepted unless an extension has been granted. Turn it in by Tuesday, 9/3 at 5:00pm PT for 5 extra credit points. For more information check our [policies](http://data8.org/fa24/policies/) page.\n",
        "\n",
        "**Note: This homework has hidden tests on it. That means even though tests may say 100% passed, it doesn't mean your final grade will be 100%. We will be running more hidden tests for correctness once everyone turns in the homework.**\n",
        "\n",
        "Directly sharing answers is not okay, but discussing problems with the course staff or with other students is encouraged. Refer to the [policies](http://data8.org/fa24/policies/#academic-honesty) page to learn more about how to learn cooperatively.\n",
        "\n",
        "You should start early so that you have time to get help if you're stuck. Office hours are held Monday-Friday. The schedule appears on [our website](http://data8.org/fa24/schedule/)."
      ],
      "id": "BCwk3a6wuAd-"
    },
    {
      "cell_type": "markdown",
      "metadata": {
        "id": "nzC2qBjruAd-"
      },
      "source": [
        "<hr style=\"border: 5px solid #003262;\" />\n",
        "<hr style=\"border: 1px solid #fdb515;\" />\n",
        "\n",
        "## 1. Scary Arithmetic"
      ],
      "id": "nzC2qBjruAd-"
    },
    {
      "cell_type": "markdown",
      "metadata": {
        "id": "I3MLzaUKuAd-"
      },
      "source": [
        "<!-- BEGIN QUESTION -->\n",
        "\n",
        "---\n",
        "\n",
        "**Question 1.1** An ad for ADT Security Systems says,\n",
        "\n",
        "> \"When you go on vacation, burglars go to work [...] According to FBI statistics, over 25% of home burglaries occur between Memorial Day to Labor Day.\"\n",
        "\n",
        "Do the data in the ad support the claim that burglars are more likely to go to work during the time between Memorial Day to Labor Day? Please explain your answer. **(6 Points)**\n",
        "\n",
        "**Note:** You can assume that \"over 25%\" means only slightly over. Had it been much over, say closer to 30%, then the marketers would have said so.\n",
        "\n",
        "**Note:** Memorial Day is observed on the last Monday of May and Labor Day is observed on the first Monday of September.\n"
      ],
      "id": "I3MLzaUKuAd-"
    },
    {
      "cell_type": "markdown",
      "metadata": {
        "id": "Bf2cCEOZuAd_"
      },
      "source": [
        "_Type your answer here, replacing this text._"
      ],
      "id": "Bf2cCEOZuAd_"
    },
    {
      "cell_type": "markdown",
      "metadata": {
        "id": "VsEaceeVuAd_"
      },
      "source": [
        "<!-- END QUESTION -->\n",
        "\n",
        "<hr style=\"border: 5px solid #003262;\" />\n",
        "<hr style=\"border: 1px solid #fdb515;\" />\n",
        "\n",
        "## 2. Characters in Little Women\n"
      ],
      "id": "VsEaceeVuAd_"
    },
    {
      "cell_type": "markdown",
      "metadata": {
        "id": "Od2ZsWljuAd_"
      },
      "source": [
        "In lecture, we counted the number of times that the literary characters were named in each chapter of the classic book, [*Little Women*](https://inferentialthinking.com/chapters/01/3/1/Literary_Characters.html?highlight=little%20women). In computer science, the word \"character\" also refers to a letter, digit, space, or punctuation mark; any single element of a text. The following code generates a scatter plot in which each dot corresponds to a chapter of *Little Women*. The horizontal position of a dot measures the number of periods in the chapter. The vertical position measures the total number of characters."
      ],
      "id": "Od2ZsWljuAd_"
    },
    {
      "cell_type": "code",
      "execution_count": null,
      "metadata": {
        "scrolled": true,
        "tags": [],
        "id": "UAx12MH9uAd_"
      },
      "outputs": [],
      "source": [
        "# Just run this cell.\n",
        "\n",
        "# This cell contains code that hasn't yet been covered in the course,\n",
        "# but you should be able to interpret the scatter plot it generates.\n",
        "\n",
        "from datascience import *\n",
        "from urllib.request import urlopen\n",
        "import numpy as np\n",
        "%matplotlib inline\n",
        "\n",
        "little_women_url = 'https://www.inferentialthinking.com/data/little_women.txt'\n",
        "chapters = urlopen(little_women_url).read().decode().split('CHAPTER ')[1:]\n",
        "text = Table().with_column('Chapters', chapters)\n",
        "Table().with_columns(\n",
        "    'Periods',    np.char.count(chapters, '.'),\n",
        "    'Characters', text.apply(len, 0)\n",
        "    ).scatter(0)"
      ],
      "id": "UAx12MH9uAd_"
    },
    {
      "cell_type": "markdown",
      "metadata": {
        "id": "w4UpS-9HuAd_"
      },
      "source": [
        "---\n",
        "\n",
        "**Question 1.** Around how many periods are there in the chapter with the most characters? Assign either 1, 2, 3, 4, or 5 to the name `characters_q1` below. **(4 Points)**\n",
        "\n",
        "1. 250\n",
        "2. 390\n",
        "3. 440\n",
        "4. 32,000\n",
        "5. 40,000\n",
        "\n",
        "\n",
        "**Note:** If you run into a `NameError: name 'grader' is not defined` error in the autograder cell below (and in any assignment), please re-run the first cell at the very top of this notebook!\n"
      ],
      "id": "w4UpS-9HuAd_"
    },
    {
      "cell_type": "code",
      "execution_count": null,
      "metadata": {
        "tags": [],
        "id": "nFrvBZQfuAd_"
      },
      "outputs": [],
      "source": [
        "characters_q1 = ..."
      ],
      "id": "nFrvBZQfuAd_"
    },
    {
      "cell_type": "code",
      "execution_count": null,
      "metadata": {
        "deletable": false,
        "editable": false,
        "id": "tAuGFy2NuAd_"
      },
      "outputs": [],
      "source": [
        "grader.check(\"q2_1\")"
      ],
      "id": "tAuGFy2NuAd_"
    },
    {
      "cell_type": "markdown",
      "metadata": {
        "id": "W9vu8iScuAd_"
      },
      "source": [
        "The test above checks that your answers are in the correct format. **This test does not check that you answered correctly**, only that you assigned a number successfully in each multiple-choice answer cell."
      ],
      "id": "W9vu8iScuAd_"
    },
    {
      "cell_type": "markdown",
      "metadata": {
        "id": "PvgO_lrCuAd_"
      },
      "source": [
        "---\n",
        "\n",
        "**Question 2.** Which of the following chapters has the most characters *per* period? Assign either 1, 2, or 3 to the name `characters_q2` below. **(4 Points)**\n",
        "\n",
        "1. The chapter with about 60 periods\n",
        "2. The chapter with about 350 periods\n",
        "3. The chapter with about 440 periods\n"
      ],
      "id": "PvgO_lrCuAd_"
    },
    {
      "cell_type": "code",
      "execution_count": null,
      "metadata": {
        "tags": [],
        "id": "KSywjAKQuAd_"
      },
      "outputs": [],
      "source": [
        "characters_q2 = ..."
      ],
      "id": "KSywjAKQuAd_"
    },
    {
      "cell_type": "code",
      "execution_count": null,
      "metadata": {
        "deletable": false,
        "editable": false,
        "id": "quNnW5x9uAd_"
      },
      "outputs": [],
      "source": [
        "grader.check(\"q2_2\")"
      ],
      "id": "quNnW5x9uAd_"
    },
    {
      "cell_type": "markdown",
      "metadata": {
        "id": "ouIT6fuQuAd_"
      },
      "source": [
        "Again, the test above checks that your answers are in the correct format, but not that you have answered correctly."
      ],
      "id": "ouIT6fuQuAd_"
    },
    {
      "cell_type": "markdown",
      "metadata": {
        "id": "_HNrh8KbuAeA"
      },
      "source": [
        "To discover more interesting facts from this plot, check out [Section 1.3.2](https://inferentialthinking.com/chapters/01/3/2/Another_Kind_Of_Character.html) in the textbook."
      ],
      "id": "_HNrh8KbuAeA"
    },
    {
      "cell_type": "markdown",
      "metadata": {
        "id": "WIINKSTXuAeA"
      },
      "source": [
        "<hr style=\"border: 5px solid #003262;\" />\n",
        "<hr style=\"border: 1px solid #fdb515;\" />\n",
        "\n",
        "## 3. Names and Assignment Statements"
      ],
      "id": "WIINKSTXuAeA"
    },
    {
      "cell_type": "markdown",
      "metadata": {
        "id": "82ovGjXTuAeA"
      },
      "source": [
        "---\n",
        "\n",
        "**Question 1.** When you run the following cell, Python produces a cryptic error message."
      ],
      "id": "82ovGjXTuAeA"
    },
    {
      "cell_type": "code",
      "execution_count": null,
      "metadata": {
        "tags": [
          "raises-exception"
        ],
        "id": "MlO9h94YuAeA"
      },
      "outputs": [],
      "source": [
        "4 = 2 + 2"
      ],
      "id": "MlO9h94YuAeA"
    },
    {
      "cell_type": "markdown",
      "metadata": {
        "id": "4MncK7sXuAeA"
      },
      "source": [
        "Choose the best explanation of what's wrong with the code, and then assign 1, 2, 3, or 4 to `names_q1` below to indicate your answer. **(4 Points)**\n",
        "\n",
        "1. Python is smart and already knows `4 = 2 + 2`.\n",
        "\n",
        "2. In Python, it's a rule that the `=` sign must have a variable name to its left, and `4` isn't a variable name.\n",
        "\n",
        "3. It should be `2 + 2 = 4`.\n",
        "\n",
        "4. I don't get an error message. This is a trick question.\n"
      ],
      "id": "4MncK7sXuAeA"
    },
    {
      "cell_type": "code",
      "execution_count": null,
      "metadata": {
        "tags": [],
        "id": "C4AKm4wWuAeA"
      },
      "outputs": [],
      "source": [
        "names_q1 = ..."
      ],
      "id": "C4AKm4wWuAeA"
    },
    {
      "cell_type": "code",
      "execution_count": null,
      "metadata": {
        "deletable": false,
        "editable": false,
        "id": "6tELAX2ZuAeA"
      },
      "outputs": [],
      "source": [
        "grader.check(\"q3_1\")"
      ],
      "id": "6tELAX2ZuAeA"
    },
    {
      "cell_type": "markdown",
      "metadata": {
        "id": "mN3KTFnyuAeA"
      },
      "source": [
        "---\n",
        "\n",
        "**Question 2.** When you run the following cell, Python will produce another cryptic error message."
      ],
      "id": "mN3KTFnyuAeA"
    },
    {
      "cell_type": "code",
      "execution_count": null,
      "metadata": {
        "tags": [
          "raises-exception"
        ],
        "id": "4Izn13pQuAeA"
      },
      "outputs": [],
      "source": [
        "two = 3\n",
        "six = two plus two"
      ],
      "id": "4Izn13pQuAeA"
    },
    {
      "cell_type": "markdown",
      "metadata": {
        "id": "oYiQej0HuAeA"
      },
      "source": [
        "Choose the best explanation of what's wrong with the code and assign 1, 2, 3, or 4 to `names_q2` below to indicate your answer. **(4 Points)**\n",
        "\n",
        "1. The `plus` operation only applies to numbers, not the word \"two\".\n",
        "\n",
        "2. The name \"two\" cannot be assigned to the number 3.\n",
        "\n",
        "3. Two plus two is four, not six.\n",
        "\n",
        "4. The name `plus` isn't a built-in operator; instead, addition uses `+`.\n"
      ],
      "id": "oYiQej0HuAeA"
    },
    {
      "cell_type": "code",
      "execution_count": null,
      "metadata": {
        "tags": [],
        "id": "IhaMd6wBuAeA"
      },
      "outputs": [],
      "source": [
        "names_q2 = ..."
      ],
      "id": "IhaMd6wBuAeA"
    },
    {
      "cell_type": "code",
      "execution_count": null,
      "metadata": {
        "deletable": false,
        "editable": false,
        "id": "qyYO-NdCuAeA"
      },
      "outputs": [],
      "source": [
        "grader.check(\"q3_2\")"
      ],
      "id": "qyYO-NdCuAeA"
    },
    {
      "cell_type": "markdown",
      "metadata": {
        "id": "O-0i1ZAkuAeA"
      },
      "source": [
        "---\n",
        "\n",
        "**Question 3.** Run the following cell."
      ],
      "id": "O-0i1ZAkuAeA"
    },
    {
      "cell_type": "code",
      "execution_count": null,
      "metadata": {
        "tags": [
          "raises-exception"
        ],
        "id": "5rkWg4cGuAeA"
      },
      "outputs": [],
      "source": [
        "x = 2\n",
        "y = 3 * x\n",
        "x = 4"
      ],
      "id": "5rkWg4cGuAeA"
    },
    {
      "cell_type": "markdown",
      "metadata": {
        "id": "7q80O3jAuAeA"
      },
      "source": [
        "What is `y` after running this cell, and why? Choose the best explanation and assign 1, 2, 3, or 4 to `names_q3` below to indicate your answer. **(4 Points)**\n",
        "\n",
        "1. `y` is equal to 6, because the second `x = 4` has no effect since `x` was already defined.\n",
        "\n",
        "2. `y` is equal to 6, because `x` was 2 when `y` was assigned, and 3 * 2 is 6.\n",
        "\n",
        "3. `y` is equal to 12, because `x` is 4 and 3 * 4 is 12.\n",
        "\n",
        "4. `y` is equal to 12, because assigning `x` to 4 will update `y` to 12 since `y` was defined in terms of `x`.\n"
      ],
      "id": "7q80O3jAuAeA"
    },
    {
      "cell_type": "code",
      "execution_count": null,
      "metadata": {
        "tags": [],
        "id": "Gkd1brXduAeA"
      },
      "outputs": [],
      "source": [
        "names_q3 = ..."
      ],
      "id": "Gkd1brXduAeA"
    },
    {
      "cell_type": "code",
      "execution_count": null,
      "metadata": {
        "deletable": false,
        "editable": false,
        "id": "eB1gbQOHuAeA"
      },
      "outputs": [],
      "source": [
        "grader.check(\"q3_3\")"
      ],
      "id": "eB1gbQOHuAeA"
    },
    {
      "cell_type": "markdown",
      "metadata": {
        "id": "QxL_4f12uAeB"
      },
      "source": [
        "<hr style=\"border: 5px solid #003262;\" />\n",
        "<hr style=\"border: 1px solid #fdb515;\" />\n",
        "\n",
        "## 4. Differences Between Majors"
      ],
      "id": "QxL_4f12uAeB"
    },
    {
      "cell_type": "markdown",
      "metadata": {
        "id": "0HH1Vs26uAeB"
      },
      "source": [
        "Berkeley’s Office of Planning and Analysis (OPA) provides data on numerous aspects of the campus. Adapted from the OPA website, the table below displays the number of degree recipients in three majors in the 2008-2009 and 2017-2018 academic years.\n",
        "\n",
        "| Major                              | 2008-2009    | 2017-2018   |\n",
        "|------------------------------------|--------------|-------------|\n",
        "| Gender and Women's Studies         |      17      |    28       |\n",
        "| Linguistics                        |      49      |    67       |\n",
        "| Rhetoric                           |      113     |    56       |\n",
        "\n"
      ],
      "id": "0HH1Vs26uAeB"
    },
    {
      "cell_type": "markdown",
      "metadata": {
        "id": "6WTYPkLKuAeB"
      },
      "source": [
        "---\n",
        "\n",
        "**Question 1.** Suppose you want to find the **biggest** absolute difference between the number of degree recipients in the two years, among the three majors.\n",
        "\n",
        "In the cell below, compute this value and call it `biggest_change`. Use a single expression (a single line of code) to compute the answer. Let Python perform all the arithmetic (like subtracting 49 from 67) rather than simplifying the expression yourself. The built-in `abs` function takes a numerical input and returns the absolute value. The built-in `max` function can take in 3 arguments and returns the maximum of the three numbers. **(5 Points)**\n"
      ],
      "id": "6WTYPkLKuAeB"
    },
    {
      "cell_type": "code",
      "execution_count": null,
      "metadata": {
        "deletable": false,
        "tags": [],
        "id": "bPLQ2wNwuAeB"
      },
      "outputs": [],
      "source": [
        "biggest_change = ...\n",
        "biggest_change"
      ],
      "id": "bPLQ2wNwuAeB"
    },
    {
      "cell_type": "code",
      "execution_count": null,
      "metadata": {
        "deletable": false,
        "editable": false,
        "id": "0yMS7hgduAeB"
      },
      "outputs": [],
      "source": [
        "grader.check(\"q4_1\")"
      ],
      "id": "0yMS7hgduAeB"
    },
    {
      "cell_type": "markdown",
      "metadata": {
        "id": "FwEqOBGjuAeB"
      },
      "source": [
        "---\n",
        "\n",
        "**Question 2.** Which of the three majors had the **smallest** absolute difference? Assign `smallest_change_major` to 1, 2, or 3 where each number corresponds to the following major:\n",
        "\n",
        "1. Gender and Women's Studies  \n",
        "2. Linguistics  \n",
        "3. Rhetoric\n",
        "\n",
        "Choose the number that corresponds to the major with the smallest absolute difference. **(4 Points)**\n",
        "\n",
        "_Hint:_ You should be able to answer by rough mental arithmetic, without having to calculate the exact value for each major.\n"
      ],
      "id": "FwEqOBGjuAeB"
    },
    {
      "cell_type": "code",
      "execution_count": null,
      "metadata": {
        "deletable": false,
        "tags": [],
        "id": "pxGZH3H6uAeB"
      },
      "outputs": [],
      "source": [
        "smallest_change_major = ...\n",
        "smallest_change_major"
      ],
      "id": "pxGZH3H6uAeB"
    },
    {
      "cell_type": "code",
      "execution_count": null,
      "metadata": {
        "deletable": false,
        "editable": false,
        "id": "nC_IWtW7uAeC"
      },
      "outputs": [],
      "source": [
        "grader.check(\"q4_2\")"
      ],
      "id": "nC_IWtW7uAeC"
    },
    {
      "cell_type": "markdown",
      "metadata": {
        "id": "35S0NFjmuAeC"
      },
      "source": [
        "---\n",
        "\n",
        "**Question 3.**  For each major, define the “relative change” to be the following: $\\large{\\frac{\\text{absolute difference}}{\\text{value in 2008-2009}} * 100}$\n",
        "\n",
        "Fill in the code below such that `gws_relative_change`, `linguistics_relative_change` and `rhetoric_relative_change` are assigned to the relative changes for their respective majors. **(5 Points)**\n"
      ],
      "id": "35S0NFjmuAeC"
    },
    {
      "cell_type": "code",
      "execution_count": null,
      "metadata": {
        "deletable": false,
        "for_assignment_type": "student",
        "tags": [],
        "id": "MK8HczUSuAeC"
      },
      "outputs": [],
      "source": [
        "gws_relative_change = (abs(...) / 17) * 100\n",
        "linguistics_relative_change = ...\n",
        "rhetoric_relative_change = ...\n",
        "gws_relative_change, linguistics_relative_change, rhetoric_relative_change"
      ],
      "id": "MK8HczUSuAeC"
    },
    {
      "cell_type": "code",
      "execution_count": null,
      "metadata": {
        "deletable": false,
        "editable": false,
        "id": "xhZT9St0uAeC"
      },
      "outputs": [],
      "source": [
        "grader.check(\"q4_3\")"
      ],
      "id": "xhZT9St0uAeC"
    },
    {
      "cell_type": "markdown",
      "metadata": {
        "id": "4RCdyIu5uAeC"
      },
      "source": [
        "---\n",
        "\n",
        "**Question 4.** Assign `biggest_rel_change_major` to 1, 2, or 3 where each number corresponds to to the following:\n",
        "\n",
        "1. Gender and Women's Studies  \n",
        "2. Linguistics  \n",
        "3. Rhetoric\n",
        "\n",
        "Choose the number that corresponds to the major with the biggest relative change. **(4 Points)**\n"
      ],
      "id": "4RCdyIu5uAeC"
    },
    {
      "cell_type": "code",
      "execution_count": null,
      "metadata": {
        "deletable": false,
        "tags": [],
        "id": "mcY2em7JuAeC"
      },
      "outputs": [],
      "source": [
        "biggest_rel_change_major = ...\n",
        "biggest_rel_change_major"
      ],
      "id": "mcY2em7JuAeC"
    },
    {
      "cell_type": "code",
      "execution_count": null,
      "metadata": {
        "deletable": false,
        "editable": false,
        "id": "KmpPn53suAeC"
      },
      "outputs": [],
      "source": [
        "grader.check(\"q4_4\")"
      ],
      "id": "KmpPn53suAeC"
    },
    {
      "cell_type": "markdown",
      "metadata": {
        "id": "heU30ZGfuAeC"
      },
      "source": [
        "<hr style=\"border: 5px solid #003262;\" />\n",
        "<hr style=\"border: 1px solid #fdb515;\" />\n",
        "\n",
        "## 5. Nearsightedness Study"
      ],
      "id": "heU30ZGfuAeC"
    },
    {
      "cell_type": "markdown",
      "metadata": {
        "id": "hsy3iZI_uAeC"
      },
      "source": [
        "[Myopia](https://en.wikipedia.org/wiki/Myopia), or nearsightedness, results from a number of genetic and environmental factors. In 1999, Quinn et al studied the relation between myopia and ambient lighting at night (for example, from nightlights or room lights) during childhood."
      ],
      "id": "hsy3iZI_uAeC"
    },
    {
      "cell_type": "markdown",
      "metadata": {
        "id": "E3X21mw9uAeC"
      },
      "source": [
        "<!-- BEGIN QUESTION -->\n",
        "\n",
        "---\n",
        "\n",
        "**Question 5.1.** The data were gathered by the following procedure, reported in the study. \"Between January and June 1998, parents of children aged 2-16 years [...] that were seen as outpatients in a university pediatric ophthalmology clinic completed a questionnaire on the child's light exposure both at present and before the age of 2 years.\" Was this study observational, or was it a controlled experiment? Explain. **(5 Points)**\n"
      ],
      "id": "E3X21mw9uAeC"
    },
    {
      "cell_type": "markdown",
      "metadata": {
        "id": "A7Yfm1OmuAeC"
      },
      "source": [
        "_Type your answer here, replacing this text._"
      ],
      "id": "A7Yfm1OmuAeC"
    },
    {
      "cell_type": "markdown",
      "metadata": {
        "id": "v4Swn7gFuAeC"
      },
      "source": [
        "<!-- END QUESTION -->\n",
        "\n",
        "<!-- BEGIN QUESTION -->\n",
        "\n",
        "---\n",
        "\n",
        "**Question 5.2.** The study found that of the children who slept with a room light on before the age of 2, 55% were myopic. Of the children who slept with a night light on before the age of 2, 34% were myopic. Of the children who slept in the dark before the age of 2, 10% were myopic. The study concluded the following: \"The prevalence of myopia [...] during childhood was strongly associated with ambient light exposure during sleep at night in the first two years after birth.\"\n",
        "\n",
        "Do the data support this statement? Why or why not? You may interpret \"strongly\" in any reasonable qualitative way. **(5 Points)**\n"
      ],
      "id": "v4Swn7gFuAeC"
    },
    {
      "cell_type": "markdown",
      "metadata": {
        "id": "kqwrZL_CuAeC"
      },
      "source": [
        "_Type your answer here, replacing this text._"
      ],
      "id": "kqwrZL_CuAeC"
    },
    {
      "cell_type": "markdown",
      "metadata": {
        "id": "x0XvO34vuAeC"
      },
      "source": [
        "<!-- END QUESTION -->\n",
        "\n",
        "<!-- BEGIN QUESTION -->\n",
        "\n",
        "---\n",
        "\n",
        "**Question 5.3.** On May 13, 1999, CNN reported the results of this study under the headline, \"Night light may lead to nearsightedness.\" Does the original study claim that night light causes nearsightedness? **(5 Points)**\n"
      ],
      "id": "x0XvO34vuAeC"
    },
    {
      "cell_type": "markdown",
      "metadata": {
        "id": "2GF9fJo2uAeD"
      },
      "source": [
        "_Type your answer here, replacing this text._"
      ],
      "id": "2GF9fJo2uAeD"
    },
    {
      "cell_type": "markdown",
      "metadata": {
        "id": "yLTKStFAuAeD"
      },
      "source": [
        "<!-- END QUESTION -->\n",
        "\n",
        "<!-- BEGIN QUESTION -->\n",
        "\n",
        "---\n",
        "\n",
        "**Question 5.4.** The final paragraph of the CNN report said that \"several eye specialists\" had pointed out that the study should have accounted for heredity.\n",
        "\n",
        "Myopia is passed down from parents to children. Myopic parents are more likely to have myopic children, and may also be more likely to leave lights on habitually (since the parents have poor vision). In what way does the knowledge of this possible genetic link affect how we interpret the data from the study? Explain. **(5 Points)**\n"
      ],
      "id": "yLTKStFAuAeD"
    },
    {
      "cell_type": "markdown",
      "metadata": {
        "id": "fDX_HfJJuAeD"
      },
      "source": [
        "_Type your answer here, replacing this text._"
      ],
      "id": "fDX_HfJJuAeD"
    },
    {
      "cell_type": "markdown",
      "metadata": {
        "id": "LHWUaMv4uAeD"
      },
      "source": [
        "<!-- END QUESTION -->\n",
        "\n",
        "<hr style=\"border: 5px solid #003262;\" />\n",
        "<hr style=\"border: 1px solid #fdb515;\" />\n",
        "\n",
        "## 6. Studying the Survivors"
      ],
      "id": "LHWUaMv4uAeD"
    },
    {
      "cell_type": "markdown",
      "metadata": {
        "id": "itFD0aqTuAeD"
      },
      "source": [
        "---\n",
        "\n",
        "**Question 6.1.** The Reverend Henry Whitehead was skeptical of John Snow’s conclusion about the Broad Street pump. After the Broad Street cholera epidemic ended, Whitehead set about trying to prove Snow wrong.  (The history of the event is detailed [here](http://www.ncbi.nlm.nih.gov/pmc/articles/PMC1034367/pdf/medhist00183-0026.pdf).)\n",
        "\n",
        "He realized that Snow had focused his analysis almost entirely on those who had died. Whitehead, therefore, investigated the drinking habits of people in the Broad Street area who had not died in the outbreak.\n",
        "\n",
        "What is the main reason it was important to study this group? Assign either 1, 2, or 3 to the name `survivor_answer` below. **(4 Points)**\n",
        "\n",
        "1. If Whitehead had found that many people had drunk water from the Broad Street pump and not caught cholera, that would have been evidence against Snow's hypothesis.\n",
        "\n",
        "2. Survivors could provide additional information about what else could have caused the cholera, potentially unearthing another cause.\n",
        "\n",
        "3. Through considering the survivors, Whitehead could have identified a cure for cholera.\n"
      ],
      "id": "itFD0aqTuAeD"
    },
    {
      "cell_type": "code",
      "execution_count": null,
      "metadata": {
        "deletable": false,
        "tags": [],
        "id": "3QWWtUZeuAeD"
      },
      "outputs": [],
      "source": [
        "survivor_answer = ..."
      ],
      "id": "3QWWtUZeuAeD"
    },
    {
      "cell_type": "code",
      "execution_count": null,
      "metadata": {
        "deletable": false,
        "editable": false,
        "id": "KqviwyhQuAeD"
      },
      "outputs": [],
      "source": [
        "grader.check(\"q6_1\")"
      ],
      "id": "KqviwyhQuAeD"
    },
    {
      "cell_type": "markdown",
      "metadata": {
        "id": "i4rfL-cTuAeD"
      },
      "source": [
        "**Note:** Whitehead ended up finding further proof that the Broad Street pump played a central role in spreading the disease to the people who lived near it. Eventually, he became one of Snow’s greatest defenders."
      ],
      "id": "i4rfL-cTuAeD"
    },
    {
      "cell_type": "markdown",
      "metadata": {
        "id": "MELLxVCMuAeD"
      },
      "source": [
        "<hr style=\"border: 5px solid #003262;\" />\n",
        "<hr style=\"border: 1px solid #fdb515;\" />\n",
        "\n",
        "## 7. Policies and Administrivia"
      ],
      "id": "MELLxVCMuAeD"
    },
    {
      "cell_type": "markdown",
      "metadata": {
        "id": "rLoe-DfbuAeD"
      },
      "source": [
        "This section of the homework is to ensure that you have read over the policies and frequently asked questions for the course.\n",
        "\n",
        "**It's important that you read through this section of the homework very carefully**. If you can get through all of this section and are sure you have all of the correct resources set up, you will be able to focus on the actual material this semester!\n",
        "\n",
        "Reading through the [policies](http://data8.org/fa24/policies/) and the [FAQ](http://data8.org/fa24/faq/) will help you get through this section very easily. It is recommended you do this before proceeding."
      ],
      "id": "rLoe-DfbuAeD"
    },
    {
      "cell_type": "markdown",
      "metadata": {
        "id": "hFXXaWIkuAeD"
      },
      "source": [
        "---\n",
        "\n",
        "**Question 1.** You have a question regarding the grading of your assignments that has not been previously answered on Ed or the FAQ. Who do you contact? Assign `contact` to the number corresponding to the best choice below. **(4 Points)**\n",
        "\n",
        "1. The Instructors\n",
        "2. Post on Ed\n",
        "3. Contact your Lab TA\n"
      ],
      "id": "hFXXaWIkuAeD"
    },
    {
      "cell_type": "code",
      "execution_count": null,
      "metadata": {
        "tags": [],
        "id": "ysTq743VuAeD"
      },
      "outputs": [],
      "source": [
        "contact = ..."
      ],
      "id": "ysTq743VuAeD"
    },
    {
      "cell_type": "code",
      "execution_count": null,
      "metadata": {
        "deletable": false,
        "editable": false,
        "id": "yVM0T2f0uAeD"
      },
      "outputs": [],
      "source": [
        "grader.check(\"q7_1\")"
      ],
      "id": "yVM0T2f0uAeD"
    },
    {
      "cell_type": "markdown",
      "metadata": {
        "id": "SImbZbmEuAeD"
      },
      "source": [
        "---\n",
        "\n",
        "**Question 2.** Why are there typically 2 items listed on Gradescope for each homework assignment? Assign `grades` to the number corresponding to the best choice below. **(4 Points)**\n",
        "\n",
        "1. There was a mistake in the grading. I should contact someone about this.\n",
        "2. One assignment is for coding questions (which I will submit through a zip file), and the other is for written responses (which I will submit through a pdf and manually assign the pages to their proper question).\n",
        "3. Trick question.\n"
      ],
      "id": "SImbZbmEuAeD"
    },
    {
      "cell_type": "code",
      "execution_count": null,
      "metadata": {
        "tags": [],
        "id": "dKp1LeFNuAeD"
      },
      "outputs": [],
      "source": [
        "grades = ..."
      ],
      "id": "dKp1LeFNuAeD"
    },
    {
      "cell_type": "code",
      "execution_count": null,
      "metadata": {
        "deletable": false,
        "editable": false,
        "id": "T6sGbyPouAeD"
      },
      "outputs": [],
      "source": [
        "grader.check(\"q7_2\")"
      ],
      "id": "T6sGbyPouAeD"
    },
    {
      "cell_type": "markdown",
      "metadata": {
        "id": "MZfEL_SeuAeE"
      },
      "source": [
        "---\n",
        "\n",
        "**Question 3.** Regrade deadline dates will always be posted on the same Ed post that releases the assignment grades, common mistakes, and solutions. Can you ask for parts of your assignment regraded after the regrade request window has passed? Assign `regrade` to the number corresponding to the best choice below. **(4 Points)**\n",
        "\n",
        "1. Yes\n",
        "2. No\n"
      ],
      "id": "MZfEL_SeuAeE"
    },
    {
      "cell_type": "code",
      "execution_count": null,
      "metadata": {
        "tags": [],
        "id": "qBduChPTuAeE"
      },
      "outputs": [],
      "source": [
        "regrade = ..."
      ],
      "id": "qBduChPTuAeE"
    },
    {
      "cell_type": "code",
      "execution_count": null,
      "metadata": {
        "deletable": false,
        "editable": false,
        "id": "dy_4E83OuAeE"
      },
      "outputs": [],
      "source": [
        "grader.check(\"q7_3\")"
      ],
      "id": "dy_4E83OuAeE"
    },
    {
      "cell_type": "markdown",
      "metadata": {
        "id": "bhVA2NvduAeE"
      },
      "source": [
        "---\n",
        "\n",
        "**Question 4.** Do you have an Gradescope account? Head to [gradescope.com](http://gradescope.com) and check if you see Data 8. If you do not, please send your Lab TA an email with your email and student ID number.\n",
        "\n",
        "Once you have been enrolled, go to the Data 8 Gradescope course website. At the end of the url link, you should see a six-digit number. Assign `gradescope` to this number as an integer. **(4 Points)**\n"
      ],
      "id": "bhVA2NvduAeE"
    },
    {
      "cell_type": "code",
      "execution_count": null,
      "metadata": {
        "tags": [],
        "id": "_fTIMtkbuAeE"
      },
      "outputs": [],
      "source": [
        "gradescope = ..."
      ],
      "id": "_fTIMtkbuAeE"
    },
    {
      "cell_type": "code",
      "execution_count": null,
      "metadata": {
        "deletable": false,
        "editable": false,
        "id": "PwIUL9LYuAeE"
      },
      "outputs": [],
      "source": [
        "grader.check(\"q7_4\")"
      ],
      "id": "PwIUL9LYuAeE"
    },
    {
      "cell_type": "markdown",
      "metadata": {
        "id": "Z9DQ9yLYuAeE"
      },
      "source": [
        "---\n",
        "\n",
        "**Question 5.** Given the following scenarios, assign `acceptable` to the corresponding number of the scenario that is permissible given the guidelines on the [policies](http://data8.org/su24/policies/) page. **(4 Points)**\n",
        "\n",
        "1. Jessica gets stuck on a homework assignment, so she googles a fix. She stumbles across a pdf of the solutions for the homework assignment from a previous semester's offering of Data 8. After inspecting the solution, Nicole writes her own solution and submits the assignment.\n",
        "\n",
        "2. After getting confused by a project, Atticus asks his friend for help. His friend Kelsey helps by walking Atticus through her own logic, without showing her code, pointing out areas that are important given the context of the question. Upon hearing his friend's logic, Atticus writes his own code and completes the project.\n",
        "\n",
        "3. Edwin (who is in a regular lab) has an extremely busy schedule, so he really wants to leave lab early by finishing it and getting checked off. His neighbor, Gamy, simply turns his computer so Edwin can see how he completed some questions. After looking at his code, Edwin finishes the lab and gets checked off.\n"
      ],
      "id": "Z9DQ9yLYuAeE"
    },
    {
      "cell_type": "code",
      "execution_count": null,
      "metadata": {
        "tags": [],
        "id": "wfIKcPvmuAeE"
      },
      "outputs": [],
      "source": [
        "acceptable = ..."
      ],
      "id": "wfIKcPvmuAeE"
    },
    {
      "cell_type": "code",
      "execution_count": null,
      "metadata": {
        "deletable": false,
        "editable": false,
        "id": "Mqe5ggKPuAeE"
      },
      "outputs": [],
      "source": [
        "grader.check(\"q7_5\")"
      ],
      "id": "Mqe5ggKPuAeE"
    },
    {
      "cell_type": "markdown",
      "metadata": {
        "id": "ffN3E-U8uAeE"
      },
      "source": [
        "---\n",
        "\n",
        "**Question 6.** To make sure you have read through the [policies](http://data8.org/fa24/policies/) and the [FAQ](http://data8.org/fa24/faq/) carefully, how many HW and lab drops are there? Assign `drops` to the number corresponding to the best choice below. **(4 Points)**\n",
        "\n",
        "1. Two homework drops and three lab drops\n",
        "2. Two homework drops and two lab drops\n",
        "3. Only two homework drops\n",
        "4. One homework drop and two lab drops\n",
        "\n",
        "*Note:* You should reserve drops for extenuating circumstances."
      ],
      "id": "ffN3E-U8uAeE"
    },
    {
      "cell_type": "code",
      "execution_count": null,
      "metadata": {
        "tags": [],
        "id": "h8i19Xb-uAeE"
      },
      "outputs": [],
      "source": [
        "drops = ..."
      ],
      "id": "h8i19Xb-uAeE"
    },
    {
      "cell_type": "code",
      "execution_count": null,
      "metadata": {
        "deletable": false,
        "editable": false,
        "id": "UidCkiQUuAeE"
      },
      "outputs": [],
      "source": [
        "grader.check(\"q7_6\")"
      ],
      "id": "UidCkiQUuAeE"
    },
    {
      "cell_type": "markdown",
      "metadata": {
        "id": "WhRxuNiCuAeE"
      },
      "source": [
        "---\n",
        "\n",
        "**Question 7.** Does Data 8 offer alternate final exam to those with class conflicts? Assign `exams` to the number corresponding to the best choice below. **(3 Points)**\n",
        "\n",
        "1. Yes\n",
        "2. No\n"
      ],
      "id": "WhRxuNiCuAeE"
    },
    {
      "cell_type": "code",
      "execution_count": null,
      "metadata": {
        "tags": [],
        "id": "v3fnyPdAuAeE"
      },
      "outputs": [],
      "source": [
        "exams = ..."
      ],
      "id": "v3fnyPdAuAeE"
    },
    {
      "cell_type": "code",
      "execution_count": null,
      "metadata": {
        "deletable": false,
        "editable": false,
        "id": "3Kp5hpI6uAeF"
      },
      "outputs": [],
      "source": [
        "grader.check(\"q7_7\")"
      ],
      "id": "3Kp5hpI6uAeF"
    },
    {
      "cell_type": "markdown",
      "metadata": {
        "id": "y7-WRHPruAeF"
      },
      "source": [
        "---\n",
        "\n",
        "**Question 8:** Are you actually checking Ed? Go to this semester's [Data 8 Ed](https://edstem.org/us/courses/64093/discussion/) and find a lead posted thread with a certain secret phrase. Assign `secret` to this secret phrase in quotes (i.e. as a string). **(4 Points)**"
      ],
      "id": "y7-WRHPruAeF"
    },
    {
      "cell_type": "code",
      "execution_count": null,
      "metadata": {
        "tags": [],
        "id": "dYZMKAKzuAeF"
      },
      "outputs": [],
      "source": [
        "secret = ..."
      ],
      "id": "dYZMKAKzuAeF"
    },
    {
      "cell_type": "code",
      "execution_count": null,
      "metadata": {
        "deletable": false,
        "editable": false,
        "id": "-DJ0BJGPuAeF"
      },
      "outputs": [],
      "source": [
        "grader.check(\"q7_8\")"
      ],
      "id": "-DJ0BJGPuAeF"
    },
    {
      "cell_type": "markdown",
      "metadata": {
        "id": "ovUHDnChuAeF"
      },
      "source": [
        "<hr style=\"border: 5px solid #003262;\" />\n",
        "<hr style=\"border: 1px solid #fdb515;\" />\n",
        "\n",
        "## 8. Welcome Survey"
      ],
      "id": "ovUHDnChuAeF"
    },
    {
      "cell_type": "markdown",
      "metadata": {
        "id": "FNSqHcr2uAeF"
      },
      "source": [
        "---\n",
        "\n",
        "**Question 1.** Please complete the welcome survey below in order to receive credit for homework 1. Keep an eye out for the secret phrase once you submit! **(1 Point)**\n",
        "\n",
        "- [Fall 2024 Welcome Survey](https://docs.google.com/forms/d/e/1FAIpQLScKKq88X5wh2br5xmdMcLvm40n0fA11H39K4J3glmdbf11pwg/viewform?usp=sf_link)"
      ],
      "id": "FNSqHcr2uAeF"
    },
    {
      "cell_type": "markdown",
      "metadata": {
        "id": "p3JOrj3huAeF"
      },
      "source": [
        "Assign `survey` to the secret phrase given at the end of the welcome survey. Make sure the phrase is in quotes (i.e. is a string)!\n"
      ],
      "id": "p3JOrj3huAeF"
    },
    {
      "cell_type": "code",
      "execution_count": null,
      "metadata": {
        "tags": [],
        "id": "SXeZdEWVuAeF"
      },
      "outputs": [],
      "source": [
        "survey = ..."
      ],
      "id": "SXeZdEWVuAeF"
    },
    {
      "cell_type": "code",
      "execution_count": null,
      "metadata": {
        "deletable": false,
        "editable": false,
        "id": "t9o07tmGuAeF"
      },
      "outputs": [],
      "source": [
        "grader.check(\"q8_1\")"
      ],
      "id": "t9o07tmGuAeF"
    },
    {
      "cell_type": "markdown",
      "metadata": {
        "id": "VwxVNldsuAeF"
      },
      "source": [
        "You're done with Homework 1!\n",
        "\n",
        "The point breakdown for this assignment is given in the table below:\n",
        "| Category | Points |\n",
        "| --- | --- |\n",
        "| Autograder (Coding questions) | 74 |\n",
        "| Written (1.1, 5.1, 5.2, 5.3, 5.4) | 26 |\n",
        "| **Total** | 100 |\n",
        "\n",
        "Once you have submitted to the autograder, your Gradescope assignment should look something like the following image if you have passed all public tests.\n",
        "\n",
        "**Note:** *This is a photo of a generic Gradescope submission result, and it does not included the same test numbers as this assignment. Please check that all test cases have passed for each question.*\n",
        "\n",
        "<img src=\"https://github.com/HoAnhTu245/BT_KHDL/blob/main/hw/hw01/gradescope.png?raw=1\">"
      ],
      "id": "VwxVNldsuAeF"
    },
    {
      "cell_type": "markdown",
      "metadata": {
        "id": "uOHMlN_puAeF"
      },
      "source": [
        "## Pets of Data 8\n",
        "**Leo** says congrats on finishing **the FIRST Data 8 Homework**! Leo hopes you can enjoy a well deserved rest, just like him!\n",
        "\n",
        "<img src=\"https://github.com/HoAnhTu245/BT_KHDL/blob/main/hw/hw01/leo.jpeg?raw=1\" width=\"40%\" alt=\"Flame point siamese cat sleeping on the top of a grey couch.\"/>"
      ],
      "id": "uOHMlN_puAeF"
    },
    {
      "cell_type": "markdown",
      "metadata": {
        "id": "6ue2Eo5_uAeF"
      },
      "source": [
        "## Submission\n",
        "\n",
        "Below, you will see two cells. Running the first cell will automatically generate a PDF of all questions that need to be manually graded, and running the second cell will automatically generate a zip with your autograded answers. You are responsible for submitting both the coding portion (the zip) and the written portion (the PDF) to their respective Gradescope portals. **Please save before exporting!**\n",
        "\n",
        "> **Important: You must correctly assign the pages of your PDF after you submit to the correct gradescope assignment. If your pages are not correctly assigned and/or not in the correct PDF format by the deadline, we reserve the right to award no points for your written work.**\n",
        "\n",
        "If there are issues with automatically generating the PDF in the first cell, you can try downloading the notebook as a PDF by colicking on `File -> Save and Export Notebook As... -> PDF`. If that doesn't work either, you can manually take screenshots of your answers to the manually graded questions and submit those. Either way, **you are responsible for ensuring your submision follows our requirements, we will NOT be granting regrade requests for submissions that don't follow instructions.**\n",
        "\n",
        "**You must submit the PDF generated via one of these methods, we will not accept screenshots or Word documents.**"
      ],
      "id": "6ue2Eo5_uAeF"
    },
    {
      "cell_type": "code",
      "execution_count": null,
      "metadata": {
        "id": "zkeHCEsKuAeF"
      },
      "outputs": [],
      "source": [
        "from otter.export import export_notebook\n",
        "from os import path\n",
        "from IPython.display import display, HTML\n",
        "name = 'hw01'\n",
        "export_notebook(f\"{name}.ipynb\", filtering=True, pagebreaks=True)\n",
        "if(path.exists(f'{name}.pdf')):\n",
        "    display(HTML(f\"Download your PDF <a href='{name}.pdf' download>here</a>.\"))\n",
        "else:\n",
        "    print(\"\\n Pdf generation failed, please try the other methods described above\")"
      ],
      "id": "zkeHCEsKuAeF"
    },
    {
      "cell_type": "markdown",
      "metadata": {
        "deletable": false,
        "editable": false,
        "id": "xuE_jUYRuAeF"
      },
      "source": [
        "## Submission\n",
        "\n",
        "Make sure you have run all cells in your notebook in order before running the cell below, so that all images/graphs appear in the output. The cell below will generate a zip file for you to submit. **Please save before exporting!**"
      ],
      "id": "xuE_jUYRuAeF"
    },
    {
      "cell_type": "code",
      "execution_count": null,
      "metadata": {
        "deletable": false,
        "editable": false,
        "id": "JekWKqjsuAeF"
      },
      "outputs": [],
      "source": [
        "# Save your notebook first, then run this cell to export your submission.\n",
        "grader.export(pdf=False, run_tests=True)"
      ],
      "id": "JekWKqjsuAeF"
    },
    {
      "cell_type": "markdown",
      "metadata": {
        "id": "M5_GEdzMuAeF"
      },
      "source": [
        ""
      ],
      "id": "M5_GEdzMuAeF"
    }
  ],
  "metadata": {
    "kernelspec": {
      "display_name": "Python 3",
      "language": "python",
      "name": "python3"
    },
    "language_info": {
      "codemirror_mode": {
        "name": "ipython",
        "version": 3
      },
      "file_extension": ".py",
      "mimetype": "text/x-python",
      "name": "python",
      "nbconvert_exporter": "python",
      "pygments_lexer": "ipython3",
      "version": "3.12.5"
    },
    "otter": {
      "OK_FORMAT": true,
      "tests": {
        "q2_1": {
          "name": "q2_1",
          "points": [
            0
          ],
          "suites": [
            {
              "cases": [
                {
                  "code": ">>> 1 <= characters_q1 <= 5\nTrue",
                  "hidden": false,
                  "locked": false
                }
              ],
              "scored": true,
              "setup": "",
              "teardown": "",
              "type": "doctest"
            }
          ]
        },
        "q2_2": {
          "name": "q2_2",
          "points": [
            0
          ],
          "suites": [
            {
              "cases": [
                {
                  "code": ">>> 1 <= characters_q2 <= 3\nTrue",
                  "hidden": false,
                  "locked": false
                }
              ],
              "scored": true,
              "setup": "",
              "teardown": "",
              "type": "doctest"
            }
          ]
        },
        "q3_1": {
          "name": "q3_1",
          "points": [
            0
          ],
          "suites": [
            {
              "cases": [
                {
                  "code": ">>> 1 <= names_q1 <= 4\nTrue",
                  "hidden": false,
                  "locked": false
                }
              ],
              "scored": true,
              "setup": "",
              "teardown": "",
              "type": "doctest"
            }
          ]
        },
        "q3_2": {
          "name": "q3_2",
          "points": [
            0
          ],
          "suites": [
            {
              "cases": [
                {
                  "code": ">>> 1 <= names_q2 <= 4\nTrue",
                  "hidden": false,
                  "locked": false
                }
              ],
              "scored": true,
              "setup": "",
              "teardown": "",
              "type": "doctest"
            }
          ]
        },
        "q3_3": {
          "name": "q3_3",
          "points": [
            0
          ],
          "suites": [
            {
              "cases": [
                {
                  "code": ">>> 1 <= names_q3 <= 4\nTrue",
                  "hidden": false,
                  "locked": false
                }
              ],
              "scored": true,
              "setup": "",
              "teardown": "",
              "type": "doctest"
            }
          ]
        },
        "q4_1": {
          "name": "q4_1",
          "points": [
            0
          ],
          "suites": [
            {
              "cases": [
                {
                  "code": ">>> isinstance(biggest_change, (int, float))\nTrue",
                  "hidden": false,
                  "locked": false
                }
              ],
              "scored": true,
              "setup": "",
              "teardown": "",
              "type": "doctest"
            }
          ]
        },
        "q4_2": {
          "name": "q4_2",
          "points": [
            0,
            0
          ],
          "suites": [
            {
              "cases": [
                {
                  "code": ">>> isinstance(smallest_change_major, (int, float))\nTrue",
                  "hidden": false,
                  "locked": false
                },
                {
                  "code": ">>> 1 <= smallest_change_major <= 3\nTrue",
                  "hidden": false,
                  "locked": false
                }
              ],
              "scored": true,
              "setup": "",
              "teardown": "",
              "type": "doctest"
            }
          ]
        },
        "q4_3": {
          "name": "q4_3",
          "points": [
            0,
            0,
            0
          ],
          "suites": [
            {
              "cases": [
                {
                  "code": ">>> isinstance(gws_relative_change, (int, float))\nTrue",
                  "hidden": false,
                  "locked": false
                },
                {
                  "code": ">>> isinstance(linguistics_relative_change, (int, float))\nTrue",
                  "hidden": false,
                  "locked": false
                },
                {
                  "code": ">>> isinstance(rhetoric_relative_change, (int, float))\nTrue",
                  "hidden": false,
                  "locked": false
                }
              ],
              "scored": true,
              "setup": "",
              "teardown": "",
              "type": "doctest"
            }
          ]
        },
        "q4_4": {
          "name": "q4_4",
          "points": [
            0,
            0
          ],
          "suites": [
            {
              "cases": [
                {
                  "code": ">>> isinstance(biggest_rel_change_major, (int, float))\nTrue",
                  "hidden": false,
                  "locked": false
                },
                {
                  "code": ">>> 1 <= biggest_rel_change_major <= 3\nTrue",
                  "hidden": false,
                  "locked": false
                }
              ],
              "scored": true,
              "setup": "",
              "teardown": "",
              "type": "doctest"
            }
          ]
        },
        "q6_1": {
          "name": "q6_1",
          "points": [
            0
          ],
          "suites": [
            {
              "cases": [
                {
                  "code": ">>> 1 <= survivor_answer <= 3\nTrue",
                  "hidden": false,
                  "locked": false
                }
              ],
              "scored": true,
              "setup": "",
              "teardown": "",
              "type": "doctest"
            }
          ]
        },
        "q7_1": {
          "name": "q7_1",
          "points": [
            4
          ],
          "suites": [
            {
              "cases": [
                {
                  "code": ">>> contact == 3\nTrue",
                  "hidden": false,
                  "locked": false
                }
              ],
              "scored": true,
              "setup": "",
              "teardown": "",
              "type": "doctest"
            }
          ]
        },
        "q7_2": {
          "name": "q7_2",
          "points": [
            4
          ],
          "suites": [
            {
              "cases": [
                {
                  "code": ">>> grades == 2\nTrue",
                  "hidden": false,
                  "locked": false
                }
              ],
              "scored": true,
              "setup": "",
              "teardown": "",
              "type": "doctest"
            }
          ]
        },
        "q7_3": {
          "name": "q7_3",
          "points": [
            4
          ],
          "suites": [
            {
              "cases": [
                {
                  "code": ">>> regrade == 2\nTrue",
                  "hidden": false,
                  "locked": false
                }
              ],
              "scored": true,
              "setup": "",
              "teardown": "",
              "type": "doctest"
            }
          ]
        },
        "q7_4": {
          "name": "q7_4",
          "points": [
            4
          ],
          "suites": [
            {
              "cases": [
                {
                  "code": ">>> gradescope == 835871\nTrue",
                  "hidden": false,
                  "locked": false
                }
              ],
              "scored": true,
              "setup": "",
              "teardown": "",
              "type": "doctest"
            }
          ]
        },
        "q7_5": {
          "name": "q7_5",
          "points": [
            4
          ],
          "suites": [
            {
              "cases": [
                {
                  "code": ">>> acceptable == 2\nTrue",
                  "hidden": false,
                  "locked": false
                }
              ],
              "scored": true,
              "setup": "",
              "teardown": "",
              "type": "doctest"
            }
          ]
        },
        "q7_6": {
          "name": "q7_6",
          "points": [
            4
          ],
          "suites": [
            {
              "cases": [
                {
                  "code": ">>> drops == 2\nTrue",
                  "hidden": false,
                  "locked": false
                }
              ],
              "scored": true,
              "setup": "",
              "teardown": "",
              "type": "doctest"
            }
          ]
        },
        "q7_7": {
          "name": "q7_7",
          "points": [
            3
          ],
          "suites": [
            {
              "cases": [
                {
                  "code": ">>> exams == 2\nTrue",
                  "hidden": false,
                  "locked": false
                }
              ],
              "scored": true,
              "setup": "",
              "teardown": "",
              "type": "doctest"
            }
          ]
        },
        "q7_8": {
          "name": "q7_8",
          "points": [
            0,
            0
          ],
          "suites": [
            {
              "cases": [
                {
                  "code": ">>> # Please actually go on Ed and look at the threads.\n>>> # Looks like you didn't make a string.\n>>> type(secret) == str\nTrue",
                  "hidden": false,
                  "locked": false
                },
                {
                  "code": ">>> len(secret)\n8",
                  "hidden": false,
                  "locked": false
                }
              ],
              "scored": true,
              "setup": "",
              "teardown": "",
              "type": "doctest"
            }
          ]
        },
        "q8_1": {
          "name": "q8_1",
          "points": [
            1
          ],
          "suites": [
            {
              "cases": [
                {
                  "code": ">>> survey == \"data8 is data gr8\"\nTrue",
                  "hidden": false,
                  "locked": false
                }
              ],
              "scored": true,
              "setup": "",
              "teardown": "",
              "type": "doctest"
            }
          ]
        }
      }
    },
    "colab": {
      "provenance": []
    }
  },
  "nbformat": 4,
  "nbformat_minor": 5
}